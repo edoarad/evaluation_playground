{
 "cells": [
  {
   "cell_type": "markdown",
   "metadata": {},
   "source": [
    "https://docs.google.com/spreadsheets/d/15em-6D42SIxnR91fpG7w9mHLQKtS5WiQC0dTTnpt4B4/edit#gid=339262567\n"
   ]
  },
  {
   "cell_type": "code",
   "execution_count": 1,
   "metadata": {},
   "outputs": [
    {
     "data": {
      "text/html": [
       "<div>\n",
       "<style scoped>\n",
       "    .dataframe tbody tr th:only-of-type {\n",
       "        vertical-align: middle;\n",
       "    }\n",
       "\n",
       "    .dataframe tbody tr th {\n",
       "        vertical-align: top;\n",
       "    }\n",
       "\n",
       "    .dataframe thead th {\n",
       "        text-align: right;\n",
       "    }\n",
       "</style>\n",
       "<table border=\"1\" class=\"dataframe\">\n",
       "  <thead>\n",
       "    <tr style=\"text-align: right;\">\n",
       "      <th></th>\n",
       "      <th>Trial</th>\n",
       "      <th>Discounted health benefit ($)</th>\n",
       "      <th>Discounted income benefit ($)</th>\n",
       "      <th>Total discounted benefit ($)</th>\n",
       "      <th>Discounted costs ($)</th>\n",
       "      <th>Benefit-cost ratio</th>\n",
       "      <th>Unnamed: 6</th>\n",
       "      <th>Unnamed: 7</th>\n",
       "    </tr>\n",
       "  </thead>\n",
       "  <tbody>\n",
       "    <tr>\n",
       "      <th>0</th>\n",
       "      <td>Non-trial</td>\n",
       "      <td>$65,063,351</td>\n",
       "      <td>$423,463,253</td>\n",
       "      <td>$488,526,604</td>\n",
       "      <td>$3,977,718</td>\n",
       "      <td>122.8</td>\n",
       "      <td>NaN</td>\n",
       "      <td>NaN</td>\n",
       "    </tr>\n",
       "    <tr>\n",
       "      <th>1</th>\n",
       "      <td>1</td>\n",
       "      <td>$1,994,123</td>\n",
       "      <td>$27,717,671</td>\n",
       "      <td>$29,711,794</td>\n",
       "      <td>$1,074,863</td>\n",
       "      <td>27.6</td>\n",
       "      <td>NaN</td>\n",
       "      <td>NaN</td>\n",
       "    </tr>\n",
       "    <tr>\n",
       "      <th>2</th>\n",
       "      <td>2</td>\n",
       "      <td>$12,118,522</td>\n",
       "      <td>$106,100,754</td>\n",
       "      <td>$118,219,276</td>\n",
       "      <td>$2,886,192</td>\n",
       "      <td>41.0</td>\n",
       "      <td>NaN</td>\n",
       "      <td>NaN</td>\n",
       "    </tr>\n",
       "    <tr>\n",
       "      <th>3</th>\n",
       "      <td>3</td>\n",
       "      <td>$3,634,909</td>\n",
       "      <td>$21,042,653</td>\n",
       "      <td>$24,677,562</td>\n",
       "      <td>$2,286,146</td>\n",
       "      <td>10.8</td>\n",
       "      <td>NaN</td>\n",
       "      <td>NaN</td>\n",
       "    </tr>\n",
       "    <tr>\n",
       "      <th>4</th>\n",
       "      <td>4</td>\n",
       "      <td>$19,074,592</td>\n",
       "      <td>$172,967,258</td>\n",
       "      <td>$192,041,851</td>\n",
       "      <td>$2,348,051</td>\n",
       "      <td>81.8</td>\n",
       "      <td>NaN</td>\n",
       "      <td>NOTE: To run model, click on cell B3, then cli...</td>\n",
       "    </tr>\n",
       "  </tbody>\n",
       "</table>\n",
       "</div>"
      ],
      "text/plain": [
       "       Trial Discounted health benefit ($) Discounted income benefit ($)  \\\n",
       "0  Non-trial                   $65,063,351                  $423,463,253   \n",
       "1          1                    $1,994,123                   $27,717,671   \n",
       "2          2                   $12,118,522                  $106,100,754   \n",
       "3          3                    $3,634,909                   $21,042,653   \n",
       "4          4                   $19,074,592                  $172,967,258   \n",
       "\n",
       "  Total discounted benefit ($) Discounted costs ($)  Benefit-cost ratio  \\\n",
       "0                 $488,526,604           $3,977,718               122.8   \n",
       "1                  $29,711,794           $1,074,863                27.6   \n",
       "2                 $118,219,276           $2,886,192                41.0   \n",
       "3                  $24,677,562           $2,286,146                10.8   \n",
       "4                 $192,041,851           $2,348,051                81.8   \n",
       "\n",
       "   Unnamed: 6                                         Unnamed: 7  \n",
       "0         NaN                                                NaN  \n",
       "1         NaN                                                NaN  \n",
       "2         NaN                                                NaN  \n",
       "3         NaN                                                NaN  \n",
       "4         NaN  NOTE: To run model, click on cell B3, then cli...  "
      ]
     },
     "execution_count": 1,
     "metadata": {},
     "output_type": "execute_result"
    }
   ],
   "source": [
    "import pandas as pd\n",
    "\n",
    "df = pd.read_csv('CEA - lead paint regulation - Uncertainty analysis.csv')\n",
    "df.head()"
   ]
  },
  {
   "cell_type": "code",
   "execution_count": 2,
   "metadata": {},
   "outputs": [],
   "source": [
    "df.drop(columns=['Unnamed: 6', 'Unnamed: 7'], inplace=True)"
   ]
  },
  {
   "cell_type": "code",
   "execution_count": 3,
   "metadata": {},
   "outputs": [
    {
     "data": {
      "text/html": [
       "<div>\n",
       "<style scoped>\n",
       "    .dataframe tbody tr th:only-of-type {\n",
       "        vertical-align: middle;\n",
       "    }\n",
       "\n",
       "    .dataframe tbody tr th {\n",
       "        vertical-align: top;\n",
       "    }\n",
       "\n",
       "    .dataframe thead th {\n",
       "        text-align: right;\n",
       "    }\n",
       "</style>\n",
       "<table border=\"1\" class=\"dataframe\">\n",
       "  <thead>\n",
       "    <tr style=\"text-align: right;\">\n",
       "      <th></th>\n",
       "      <th>Trial</th>\n",
       "      <th>Discounted health benefit ($)</th>\n",
       "      <th>Discounted income benefit ($)</th>\n",
       "      <th>Total discounted benefit ($)</th>\n",
       "      <th>Discounted costs ($)</th>\n",
       "      <th>Benefit-cost ratio</th>\n",
       "    </tr>\n",
       "  </thead>\n",
       "  <tbody>\n",
       "    <tr>\n",
       "      <th>0</th>\n",
       "      <td>Non-trial</td>\n",
       "      <td>$65,063,351</td>\n",
       "      <td>$423,463,253</td>\n",
       "      <td>$488,526,604</td>\n",
       "      <td>$3,977,718</td>\n",
       "      <td>122.8</td>\n",
       "    </tr>\n",
       "    <tr>\n",
       "      <th>1</th>\n",
       "      <td>1</td>\n",
       "      <td>$1,994,123</td>\n",
       "      <td>$27,717,671</td>\n",
       "      <td>$29,711,794</td>\n",
       "      <td>$1,074,863</td>\n",
       "      <td>27.6</td>\n",
       "    </tr>\n",
       "    <tr>\n",
       "      <th>2</th>\n",
       "      <td>2</td>\n",
       "      <td>$12,118,522</td>\n",
       "      <td>$106,100,754</td>\n",
       "      <td>$118,219,276</td>\n",
       "      <td>$2,886,192</td>\n",
       "      <td>41.0</td>\n",
       "    </tr>\n",
       "    <tr>\n",
       "      <th>3</th>\n",
       "      <td>3</td>\n",
       "      <td>$3,634,909</td>\n",
       "      <td>$21,042,653</td>\n",
       "      <td>$24,677,562</td>\n",
       "      <td>$2,286,146</td>\n",
       "      <td>10.8</td>\n",
       "    </tr>\n",
       "    <tr>\n",
       "      <th>4</th>\n",
       "      <td>4</td>\n",
       "      <td>$19,074,592</td>\n",
       "      <td>$172,967,258</td>\n",
       "      <td>$192,041,851</td>\n",
       "      <td>$2,348,051</td>\n",
       "      <td>81.8</td>\n",
       "    </tr>\n",
       "  </tbody>\n",
       "</table>\n",
       "</div>"
      ],
      "text/plain": [
       "       Trial Discounted health benefit ($) Discounted income benefit ($)  \\\n",
       "0  Non-trial                   $65,063,351                  $423,463,253   \n",
       "1          1                    $1,994,123                   $27,717,671   \n",
       "2          2                   $12,118,522                  $106,100,754   \n",
       "3          3                    $3,634,909                   $21,042,653   \n",
       "4          4                   $19,074,592                  $172,967,258   \n",
       "\n",
       "  Total discounted benefit ($) Discounted costs ($)  Benefit-cost ratio  \n",
       "0                 $488,526,604           $3,977,718               122.8  \n",
       "1                  $29,711,794           $1,074,863                27.6  \n",
       "2                 $118,219,276           $2,886,192                41.0  \n",
       "3                  $24,677,562           $2,286,146                10.8  \n",
       "4                 $192,041,851           $2,348,051                81.8  "
      ]
     },
     "execution_count": 3,
     "metadata": {},
     "output_type": "execute_result"
    }
   ],
   "source": [
    "df.head()"
   ]
  },
  {
   "cell_type": "code",
   "execution_count": 6,
   "metadata": {},
   "outputs": [],
   "source": [
    "df.drop(0, inplace=True)"
   ]
  },
  {
   "cell_type": "code",
   "execution_count": 7,
   "metadata": {},
   "outputs": [],
   "source": [
    "benefits = df['Total discounted benefit ($)']"
   ]
  },
  {
   "cell_type": "code",
   "execution_count": 8,
   "metadata": {},
   "outputs": [
    {
     "data": {
      "text/plain": [
       "1        $29,711,794\n",
       "2       $118,219,276\n",
       "3        $24,677,562\n",
       "4       $192,041,851\n",
       "5       $271,243,183\n",
       "            ...     \n",
       "1000    $152,513,261\n",
       "1001    $182,426,721\n",
       "1002    $155,814,237\n",
       "1003    $509,809,822\n",
       "1004     $26,328,242\n",
       "Name: Total discounted benefit ($), Length: 1004, dtype: object"
      ]
     },
     "execution_count": 8,
     "metadata": {},
     "output_type": "execute_result"
    }
   ],
   "source": [
    "benefits"
   ]
  },
  {
   "cell_type": "code",
   "execution_count": 11,
   "metadata": {},
   "outputs": [],
   "source": [
    "benefits = benefits.replace('[\\$,]', '', regex=True).astype(float)\n"
   ]
  },
  {
   "cell_type": "code",
   "execution_count": 13,
   "metadata": {},
   "outputs": [
    {
     "data": {
      "text/plain": [
       "<Axes: >"
      ]
     },
     "execution_count": 13,
     "metadata": {},
     "output_type": "execute_result"
    },
    {
     "data": {
      "image/png": "[encoded data removed]",
      "text/plain": [
       "<Figure size 640x480 with 1 Axes>"
      ]
     },
     "metadata": {},
     "output_type": "display_data"
    }
   ],
   "source": [
    "benefits.hist(bins=100)\n",
    "\n"
   ]
  },
  {
   "cell_type": "code",
   "execution_count": 14,
   "metadata": {},
   "outputs": [
    {
     "ename": "FitDataError",
     "evalue": "Invalid values in `data`.  Maximum likelihood estimation with 'lognorm' requires that 0.0 < (x - loc)/scale  < inf for each x in `data`.",
     "output_type": "error",
     "traceback": [
      "\u001b[1;31m---------------------------------------------------------------------------\u001b[0m",
      "\u001b[1;31mFitDataError\u001b[0m                              Traceback (most recent call last)",
      "\u001b[1;32mc:\\Users\\edoar\\code\\Evaluation_stuff\\uncertainty_visualization\\test_lead_paint_cea_result.ipynb Cell 10\u001b[0m in \u001b[0;36m5\n\u001b[0;32m      <a href='vscode-notebook-cell:/c%3A/Users/edoar/code/Evaluation_stuff/uncertainty_visualization/test_lead_paint_cea_result.ipynb#X14sZmlsZQ%3D%3D?line=1'>2</a>\u001b[0m \u001b[39mfrom\u001b[39;00m \u001b[39mscipy\u001b[39;00m\u001b[39m.\u001b[39;00m\u001b[39mstats\u001b[39;00m \u001b[39mimport\u001b[39;00m lognorm\n\u001b[0;32m      <a href='vscode-notebook-cell:/c%3A/Users/edoar/code/Evaluation_stuff/uncertainty_visualization/test_lead_paint_cea_result.ipynb#X14sZmlsZQ%3D%3D?line=2'>3</a>\u001b[0m \u001b[39mfrom\u001b[39;00m \u001b[39mmatplotlib\u001b[39;00m \u001b[39mimport\u001b[39;00m pyplot \u001b[39mas\u001b[39;00m plt\n\u001b[1;32m----> <a href='vscode-notebook-cell:/c%3A/Users/edoar/code/Evaluation_stuff/uncertainty_visualization/test_lead_paint_cea_result.ipynb#X14sZmlsZQ%3D%3D?line=4'>5</a>\u001b[0m shape, loc, scale \u001b[39m=\u001b[39m lognorm\u001b[39m.\u001b[39;49mfit(benefits, floc\u001b[39m=\u001b[39;49m\u001b[39m0\u001b[39;49m)\n\u001b[0;32m      <a href='vscode-notebook-cell:/c%3A/Users/edoar/code/Evaluation_stuff/uncertainty_visualization/test_lead_paint_cea_result.ipynb#X14sZmlsZQ%3D%3D?line=6'>7</a>\u001b[0m x \u001b[39m=\u001b[39m np\u001b[39m.\u001b[39mlinspace(\u001b[39m0\u001b[39m, \u001b[39m100000000\u001b[39m, \u001b[39m1000\u001b[39m)\n\u001b[0;32m      <a href='vscode-notebook-cell:/c%3A/Users/edoar/code/Evaluation_stuff/uncertainty_visualization/test_lead_paint_cea_result.ipynb#X14sZmlsZQ%3D%3D?line=8'>9</a>\u001b[0m pdf \u001b[39m=\u001b[39m lognorm\u001b[39m.\u001b[39mpdf(x, shape, loc, scale)\n",
      "File \u001b[1;32mc:\\Users\\edoar\\AppData\\Local\\Programs\\Python\\Python310\\lib\\site-packages\\scipy\\stats\\_continuous_distns.py:66\u001b[0m, in \u001b[0;36m_call_super_mom.<locals>.wrapper\u001b[1;34m(self, *args, **kwds)\u001b[0m\n\u001b[0;32m     64\u001b[0m     \u001b[39mreturn\u001b[39;00m \u001b[39msuper\u001b[39m(\u001b[39mtype\u001b[39m(\u001b[39mself\u001b[39m), \u001b[39mself\u001b[39m)\u001b[39m.\u001b[39mfit(\u001b[39m*\u001b[39margs, \u001b[39m*\u001b[39m\u001b[39m*\u001b[39mkwds)\n\u001b[0;32m     65\u001b[0m \u001b[39melse\u001b[39;00m:\n\u001b[1;32m---> 66\u001b[0m     \u001b[39mreturn\u001b[39;00m fun(\u001b[39mself\u001b[39m, \u001b[39m*\u001b[39margs, \u001b[39m*\u001b[39m\u001b[39m*\u001b[39mkwds)\n",
      "File \u001b[1;32mc:\\Users\\edoar\\AppData\\Local\\Programs\\Python\\Python310\\lib\\site-packages\\scipy\\stats\\_continuous_distns.py:5702\u001b[0m, in \u001b[0;36mlognorm_gen.fit\u001b[1;34m(self, data, *args, **kwds)\u001b[0m\n\u001b[0;32m   5700\u001b[0m     data \u001b[39m=\u001b[39m data \u001b[39m-\u001b[39m floc\n\u001b[0;32m   5701\u001b[0m \u001b[39mif\u001b[39;00m np\u001b[39m.\u001b[39many(data \u001b[39m<\u001b[39m\u001b[39m=\u001b[39m \u001b[39m0\u001b[39m):\n\u001b[1;32m-> 5702\u001b[0m     \u001b[39mraise\u001b[39;00m FitDataError(\u001b[39m\"\u001b[39m\u001b[39mlognorm\u001b[39m\u001b[39m\"\u001b[39m, lower\u001b[39m=\u001b[39mfloc, upper\u001b[39m=\u001b[39mnp\u001b[39m.\u001b[39minf)\n\u001b[0;32m   5703\u001b[0m lndata \u001b[39m=\u001b[39m np\u001b[39m.\u001b[39mlog(data)\n\u001b[0;32m   5705\u001b[0m \u001b[39m# Three cases to handle:\u001b[39;00m\n\u001b[0;32m   5706\u001b[0m \u001b[39m# * shape and scale both free\u001b[39;00m\n\u001b[0;32m   5707\u001b[0m \u001b[39m# * shape fixed, scale free\u001b[39;00m\n\u001b[0;32m   5708\u001b[0m \u001b[39m# * shape free, scale fixed\u001b[39;00m\n",
      "\u001b[1;31mFitDataError\u001b[0m: Invalid values in `data`.  Maximum likelihood estimation with 'lognorm' requires that 0.0 < (x - loc)/scale  < inf for each x in `data`."
     ]
    }
   ],
   "source": [
    "# fit a lognormal distribution to benefits, displayed on top of the histogram\n",
    "from scipy.stats import lognorm\n",
    "from matplotlib import pyplot as plt\n",
    "\n",
    "shape, loc, scale = lognorm.fit(benefits, floc=0)\n",
    "\n",
    "x = np.linspace(0, 100000000, 1000)\n",
    "\n",
    "pdf = lognorm.pdf(x, shape, loc, scale)\n",
    "\n",
    "plt.plot(x, pdf, label='lognormal pdf')\n",
    "\n",
    "plt.hist(benefits, bins=100, density=True, label='data')\n",
    "\n",
    "\n"
   ]
  },
  {
   "cell_type": "code",
   "execution_count": 15,
   "metadata": {},
   "outputs": [
    {
     "data": {
      "text/plain": [
       "160   -27214795.0\n",
       "695   -13679444.0\n",
       "818   -14510036.0\n",
       "837   -18082506.0\n",
       "992   -11486977.0\n",
       "Name: Total discounted benefit ($), dtype: float64"
      ]
     },
     "execution_count": 15,
     "metadata": {},
     "output_type": "execute_result"
    }
   ],
   "source": [
    "benefits[benefits < 0]"
   ]
  },
  {
   "cell_type": "markdown",
   "metadata": {},
   "source": [
    "We can't fit a lognormal distribution to the results, because some results are negative. I'm going to cheat and remove these, but I don't think it's appropriate to do this in general."
   ]
  },
  {
   "cell_type": "code",
   "execution_count": 18,
   "metadata": {},
   "outputs": [
    {
     "data": {
      "text/plain": [
       "(array([2.86642403e-10, 1.43321201e-10, 1.43321201e-09, 2.29313922e-09,\n",
       "        3.65469064e-09, 4.44295724e-09, 4.80126025e-09, 4.58627845e-09,\n",
       "        3.08140583e-09, 3.36804823e-09, 4.37129664e-09, 4.08465424e-09,\n",
       "        2.93808463e-09, 3.65469064e-09, 2.00649682e-09, 2.50812102e-09,\n",
       "        2.36479982e-09, 1.43321201e-09, 1.50487261e-09, 1.43321201e-09,\n",
       "        1.50487261e-09, 1.79151502e-09, 1.21823021e-09, 1.28989081e-09,\n",
       "        1.00324841e-09, 6.44945406e-10, 1.07490901e-09, 1.07490901e-09,\n",
       "        5.01624205e-10, 8.59927209e-10, 2.14981802e-10, 5.01624205e-10,\n",
       "        3.58303004e-10, 4.29963604e-10, 6.44945406e-10, 1.43321201e-10,\n",
       "        2.86642403e-10, 1.43321201e-10, 4.29963604e-10, 2.86642403e-10,\n",
       "        3.58303004e-10, 2.14981802e-10, 2.14981802e-10, 2.14981802e-10,\n",
       "        2.14981802e-10, 7.16606007e-11, 2.14981802e-10, 2.14981802e-10,\n",
       "        2.86642403e-10, 7.16606007e-11, 1.43321201e-10, 0.00000000e+00,\n",
       "        1.43321201e-10, 2.14981802e-10, 0.00000000e+00, 0.00000000e+00,\n",
       "        0.00000000e+00, 7.16606007e-11, 0.00000000e+00, 0.00000000e+00,\n",
       "        1.43321201e-10, 7.16606007e-11, 0.00000000e+00, 0.00000000e+00,\n",
       "        7.16606007e-11, 7.16606007e-11, 7.16606007e-11, 0.00000000e+00,\n",
       "        0.00000000e+00, 0.00000000e+00, 0.00000000e+00, 0.00000000e+00,\n",
       "        0.00000000e+00, 0.00000000e+00, 0.00000000e+00, 0.00000000e+00,\n",
       "        0.00000000e+00, 0.00000000e+00, 0.00000000e+00, 0.00000000e+00,\n",
       "        0.00000000e+00, 0.00000000e+00, 0.00000000e+00, 0.00000000e+00,\n",
       "        0.00000000e+00, 0.00000000e+00, 0.00000000e+00, 0.00000000e+00,\n",
       "        0.00000000e+00, 0.00000000e+00, 0.00000000e+00, 0.00000000e+00,\n",
       "        0.00000000e+00, 0.00000000e+00, 0.00000000e+00, 0.00000000e+00,\n",
       "        0.00000000e+00, 0.00000000e+00, 0.00000000e+00, 7.16606007e-11]),\n",
       " array([-2.72147950e+07, -1.33157218e+07,  5.83351440e+05,  1.44824247e+07,\n",
       "         2.83814979e+07,  4.22805711e+07,  5.61796443e+07,  7.00787175e+07,\n",
       "         8.39777908e+07,  9.78768640e+07,  1.11775937e+08,  1.25675010e+08,\n",
       "         1.39574084e+08,  1.53473157e+08,  1.67372230e+08,  1.81271303e+08,\n",
       "         1.95170377e+08,  2.09069450e+08,  2.22968523e+08,  2.36867596e+08,\n",
       "         2.50766669e+08,  2.64665743e+08,  2.78564816e+08,  2.92463889e+08,\n",
       "         3.06362962e+08,  3.20262036e+08,  3.34161109e+08,  3.48060182e+08,\n",
       "         3.61959255e+08,  3.75858328e+08,  3.89757402e+08,  4.03656475e+08,\n",
       "         4.17555548e+08,  4.31454621e+08,  4.45353694e+08,  4.59252768e+08,\n",
       "         4.73151841e+08,  4.87050914e+08,  5.00949987e+08,  5.14849061e+08,\n",
       "         5.28748134e+08,  5.42647207e+08,  5.56546280e+08,  5.70445353e+08,\n",
       "         5.84344427e+08,  5.98243500e+08,  6.12142573e+08,  6.26041646e+08,\n",
       "         6.39940720e+08,  6.53839793e+08,  6.67738866e+08,  6.81637939e+08,\n",
       "         6.95537012e+08,  7.09436086e+08,  7.23335159e+08,  7.37234232e+08,\n",
       "         7.51133305e+08,  7.65032379e+08,  7.78931452e+08,  7.92830525e+08,\n",
       "         8.06729598e+08,  8.20628671e+08,  8.34527745e+08,  8.48426818e+08,\n",
       "         8.62325891e+08,  8.76224964e+08,  8.90124038e+08,  9.04023111e+08,\n",
       "         9.17922184e+08,  9.31821257e+08,  9.45720330e+08,  9.59619404e+08,\n",
       "         9.73518477e+08,  9.87417550e+08,  1.00131662e+09,  1.01521570e+09,\n",
       "         1.02911477e+09,  1.04301384e+09,  1.05691292e+09,  1.07081199e+09,\n",
       "         1.08471106e+09,  1.09861014e+09,  1.11250921e+09,  1.12640828e+09,\n",
       "         1.14030736e+09,  1.15420643e+09,  1.16810550e+09,  1.18200458e+09,\n",
       "         1.19590365e+09,  1.20980272e+09,  1.22370179e+09,  1.23760087e+09,\n",
       "         1.25149994e+09,  1.26539901e+09,  1.27929809e+09,  1.29319716e+09,\n",
       "         1.30709623e+09,  1.32099531e+09,  1.33489438e+09,  1.34879345e+09,\n",
       "         1.36269253e+09]),\n",
       " <BarContainer object of 100 artists>)"
      ]
     },
     "execution_count": 18,
     "metadata": {},
     "output_type": "execute_result"
    },
    {
     "data": {
      "image/png": "[encoded data removed]",
      "text/plain": [
       "<Figure size 640x480 with 1 Axes>"
      ]
     },
     "metadata": {},
     "output_type": "display_data"
    }
   ],
   "source": [
    "from scipy.stats import lognorm\n",
    "from matplotlib import pyplot as plt\n",
    "import numpy as np\n",
    "\n",
    "shape, loc, scale = lognorm.fit(benefits[benefits > 0], floc=0)\n",
    "\n",
    "x = np.linspace(0, 1000000000, 1000)\n",
    "\n",
    "pdf = lognorm.pdf(x, shape, loc, scale)\n",
    "\n",
    "plt.plot(x, pdf, label='lognormal pdf')\n",
    "\n",
    "plt.hist(benefits, bins=100, density=True, label='data')\n",
    "\n",
    "\n"
   ]
  },
  {
   "cell_type": "code",
   "execution_count": null,
   "metadata": {},
   "outputs": [],
   "source": []
  }
 ],
 "metadata": {
  "kernelspec": {
   "display_name": "Python 3",
   "language": "python",
   "name": "python3"
  },
  "language_info": {
   "codemirror_mode": {
    "name": "ipython",
    "version": 3
   },
   "file_extension": ".py",
   "mimetype": "text/x-python",
   "name": "python",
   "nbconvert_exporter": "python",
   "pygments_lexer": "ipython3",
   "version": "3.10.7"
  },
  "orig_nbformat": 4
 },
 "nbformat": 4,
 "nbformat_minor": 2
}
