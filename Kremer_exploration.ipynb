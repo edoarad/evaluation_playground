{
 "cells": [
  {
   "cell_type": "code",
   "execution_count": 2,
   "metadata": {},
   "outputs": [
    {
     "name": "stdout",
     "output_type": "stream",
     "text": [
      "Requirement already satisfied: statsmodels in c:\\users\\edoar\\appdata\\local\\programs\\python\\python310\\lib\\site-packages (0.13.5)\n",
      "Requirement already satisfied: pandas>=0.25 in c:\\users\\edoar\\appdata\\local\\programs\\python\\python310\\lib\\site-packages (from statsmodels) (1.5.3)\n",
      "Requirement already satisfied: numpy>=1.22.3 in c:\\users\\edoar\\appdata\\local\\programs\\python\\python310\\lib\\site-packages (from statsmodels) (1.23.5)\n",
      "Requirement already satisfied: patsy>=0.5.2 in c:\\users\\edoar\\appdata\\local\\programs\\python\\python310\\lib\\site-packages (from statsmodels) (0.5.3)\n",
      "Requirement already satisfied: scipy>=1.3 in c:\\users\\edoar\\appdata\\local\\programs\\python\\python310\\lib\\site-packages (from statsmodels) (1.10.1)\n",
      "Requirement already satisfied: packaging>=21.3 in c:\\users\\edoar\\appdata\\roaming\\python\\python310\\site-packages (from statsmodels) (21.3)\n",
      "Requirement already satisfied: pyparsing!=3.0.5,>=2.0.2 in c:\\users\\edoar\\appdata\\roaming\\python\\python310\\site-packages (from packaging>=21.3->statsmodels) (3.0.9)\n",
      "Requirement already satisfied: python-dateutil>=2.8.1 in c:\\users\\edoar\\appdata\\roaming\\python\\python310\\site-packages (from pandas>=0.25->statsmodels) (2.8.2)\n",
      "Requirement already satisfied: pytz>=2020.1 in c:\\users\\edoar\\appdata\\local\\programs\\python\\python310\\lib\\site-packages (from pandas>=0.25->statsmodels) (2022.7.1)\n",
      "Requirement already satisfied: six in c:\\users\\edoar\\appdata\\roaming\\python\\python310\\site-packages (from patsy>=0.5.2->statsmodels) (1.16.0)\n"
     ]
    },
    {
     "name": "stderr",
     "output_type": "stream",
     "text": [
      "\n",
      "[notice] A new release of pip is available: 23.0.1 -> 23.1.2\n",
      "[notice] To update, run: python.exe -m pip install --upgrade pip\n"
     ]
    }
   ],
   "source": [
    "!pip install statsmodels"
   ]
  },
  {
   "cell_type": "code",
   "execution_count": 3,
   "metadata": {},
   "outputs": [
    {
     "data": {
      "text/html": [
       "<table class=\"simpletable\">\n",
       "<tr>\n",
       "         <td></td>        <th>Estimate</th>  <th>SE</th>     <th>LCB</th>    <th>UCB</th>  <th>p-value</th>\n",
       "</tr>\n",
       "<tr>\n",
       "  <th>Odds ratio</th>        <td>0.577</td>      <td></td>  <td>0.479</td>  <td>0.694</td>   <td>0.000</td>\n",
       "</tr>\n",
       "<tr>\n",
       "  <th>Log odds ratio</th>   <td>-0.550</td> <td>0.095</td> <td>-0.736</td> <td>-0.365</td>   <td>0.000</td>\n",
       "</tr>\n",
       "<tr>\n",
       "  <th>Risk ratio</th>        <td>0.583</td>      <td></td>  <td>0.486</td>  <td>0.700</td>   <td>0.000</td>\n",
       "</tr>\n",
       "<tr>\n",
       "  <th>Log risk ratio</th>   <td>-0.540</td> <td>0.093</td> <td>-0.722</td> <td>-0.357</td>   <td>0.000</td>\n",
       "</tr>\n",
       "</table>"
      ],
      "text/plain": [
       "<class 'statsmodels.iolib.table.SimpleTable'>"
      ]
     },
     "execution_count": 3,
     "metadata": {},
     "output_type": "execute_result"
    }
   ],
   "source": [
    "import statsmodels.api as sm\n",
    "\n",
    "sm.stats.Table2x2(list(reversed([[339, 13260], [170, 11531]]))).summary()"
   ]
  },
  {
   "cell_type": "code",
   "execution_count": 4,
   "metadata": {},
   "outputs": [],
   "source": [
    "s = \"\"\"Semenza et al., 1998 (26) 0 88 2 78\n",
    "Reller et al., 2003 (27) 10 729 5 182\n",
    "Crump et al., 2005 (21) 9 1009 15 505\n",
    "Luby et al., 2006 (19) 2 1013 0 553\n",
    "Chiller et al., 2006 (28) 0 132 1 137\n",
    "Kremer et. al., 2011 (29) 18 691 47 1465\n",
    "Peletz et al., 2012 (22) 3 58 6 54\n",
    "Boisson et al., 2013 (30) 2 1505 1 1507\n",
    "Null et al., 2018 (18) 30 858 114 2697\n",
    "Luby et al., 2018 (20) 27 629 62 1244\n",
    "Humphrey et al., 2019 (31) 49 946 50 909\n",
    "Kirby et al., 2019 (32) 8 1198 12 1252\n",
    "Haushofer et al. 2021 (33) 7 987 22 965\n",
    "Dupas et al. 2021 (34) 5 1288 2 1321\n",
    "Quick et al. 1999 (35) 0 400 0 391\n",
    "\"\"\""
   ]
  },
  {
   "cell_type": "code",
   "execution_count": 5,
   "metadata": {},
   "outputs": [
    {
     "name": "stdout",
     "output_type": "stream",
     "text": [
      "Semenza et al., 1998 (26) 0 88 2 78\n",
      "Reller et al., 2003 (27) 10 729 5 182\n",
      "Crump et al., 2005 (21) 9 1009 15 505\n",
      "Luby et al., 2006 (19) 2 1013 0 553\n",
      "Chiller et al., 2006 (28) 0 132 1 137\n",
      "Kremer et. al., 2011 (29) 18 691 47 1465\n",
      "Peletz et al., 2012 (22) 3 58 6 54\n",
      "Boisson et al., 2013 (30) 2 1505 1 1507\n",
      "Null et al., 2018 (18) 30 858 114 2697\n",
      "Luby et al., 2018 (20) 27 629 62 1244\n",
      "Humphrey et al., 2019 (31) 49 946 50 909\n",
      "Kirby et al., 2019 (32) 8 1198 12 1252\n",
      "Haushofer et al. 2021 (33) 7 987 22 965\n",
      "Dupas et al. 2021 (34) 5 1288 2 1321\n",
      "Quick et al. 1999 (35) 0 400 0 391\n"
     ]
    }
   ],
   "source": [
    "for row in s.split('\\n')[:-1]:\n",
    "    # paper_name is all the text up to and including the first ')'\n",
    "    paper_name = row[:row.find(')')+1]\n",
    "    treatment_event, treatment_non_event, control_event, control_non_event = [int(x) for x in row[row.find(')')+1:].split()]\n",
    "    print(paper_name, treatment_event, treatment_non_event, control_event, control_non_event)"
   ]
  },
  {
   "cell_type": "code",
   "execution_count": 6,
   "metadata": {},
   "outputs": [],
   "source": [
    "import numpy as np"
   ]
  },
  {
   "cell_type": "code",
   "execution_count": 7,
   "metadata": {},
   "outputs": [],
   "source": [
    "import pandas as pd\n",
    "list_of_rows = []\n",
    "for row in s.split('\\n')[:-1]:\n",
    "    # paper_name is all the text up to and including the first ')'\n",
    "    paper_name = row[:row.find(')')+1]\n",
    "    treatment_event, treatment_non_event, control_event, control_non_event = [int(x) for x in row[row.find(')')+1:].split()]\n",
    "    list_of_rows.append([paper_name, treatment_event, treatment_non_event, control_event, control_non_event])\n",
    "\n",
    "df = pd.DataFrame(list_of_rows, columns=['paper_name', 'treatment_event', 'treatment_non_event', 'control_event', 'control_non_event'])"
   ]
  },
  {
   "cell_type": "code",
   "execution_count": 8,
   "metadata": {},
   "outputs": [
    {
     "data": {
      "text/html": [
       "<div>\n",
       "<style scoped>\n",
       "    .dataframe tbody tr th:only-of-type {\n",
       "        vertical-align: middle;\n",
       "    }\n",
       "\n",
       "    .dataframe tbody tr th {\n",
       "        vertical-align: top;\n",
       "    }\n",
       "\n",
       "    .dataframe thead th {\n",
       "        text-align: right;\n",
       "    }\n",
       "</style>\n",
       "<table border=\"1\" class=\"dataframe\">\n",
       "  <thead>\n",
       "    <tr style=\"text-align: right;\">\n",
       "      <th></th>\n",
       "      <th>paper_name</th>\n",
       "      <th>treatment_event</th>\n",
       "      <th>treatment_non_event</th>\n",
       "      <th>control_event</th>\n",
       "      <th>control_non_event</th>\n",
       "    </tr>\n",
       "  </thead>\n",
       "  <tbody>\n",
       "    <tr>\n",
       "      <th>0</th>\n",
       "      <td>Semenza et al., 1998 (26)</td>\n",
       "      <td>0</td>\n",
       "      <td>88</td>\n",
       "      <td>2</td>\n",
       "      <td>78</td>\n",
       "    </tr>\n",
       "    <tr>\n",
       "      <th>1</th>\n",
       "      <td>Reller et al., 2003 (27)</td>\n",
       "      <td>10</td>\n",
       "      <td>729</td>\n",
       "      <td>5</td>\n",
       "      <td>182</td>\n",
       "    </tr>\n",
       "    <tr>\n",
       "      <th>2</th>\n",
       "      <td>Crump et al., 2005 (21)</td>\n",
       "      <td>9</td>\n",
       "      <td>1009</td>\n",
       "      <td>15</td>\n",
       "      <td>505</td>\n",
       "    </tr>\n",
       "    <tr>\n",
       "      <th>3</th>\n",
       "      <td>Luby et al., 2006 (19)</td>\n",
       "      <td>2</td>\n",
       "      <td>1013</td>\n",
       "      <td>0</td>\n",
       "      <td>553</td>\n",
       "    </tr>\n",
       "    <tr>\n",
       "      <th>4</th>\n",
       "      <td>Chiller et al., 2006 (28)</td>\n",
       "      <td>0</td>\n",
       "      <td>132</td>\n",
       "      <td>1</td>\n",
       "      <td>137</td>\n",
       "    </tr>\n",
       "  </tbody>\n",
       "</table>\n",
       "</div>"
      ],
      "text/plain": [
       "                  paper_name  treatment_event  treatment_non_event  \\\n",
       "0  Semenza et al., 1998 (26)                0                   88   \n",
       "1   Reller et al., 2003 (27)               10                  729   \n",
       "2    Crump et al., 2005 (21)                9                 1009   \n",
       "3     Luby et al., 2006 (19)                2                 1013   \n",
       "4  Chiller et al., 2006 (28)                0                  132   \n",
       "\n",
       "   control_event  control_non_event  \n",
       "0              2                 78  \n",
       "1              5                182  \n",
       "2             15                505  \n",
       "3              0                553  \n",
       "4              1                137  "
      ]
     },
     "execution_count": 8,
     "metadata": {},
     "output_type": "execute_result"
    }
   ],
   "source": [
    "df.head()"
   ]
  },
  {
   "cell_type": "code",
   "execution_count": 9,
   "metadata": {},
   "outputs": [
    {
     "data": {
      "text/plain": [
       "paper_name             Semenza et al., 1998 (26)Reller et al., 2003 (...\n",
       "treatment_event                                                      170\n",
       "treatment_non_event                                                11531\n",
       "control_event                                                        339\n",
       "control_non_event                                                  13260\n",
       "dtype: object"
      ]
     },
     "execution_count": 9,
     "metadata": {},
     "output_type": "execute_result"
    }
   ],
   "source": [
    "# sum total events and non-events\n",
    "df.sum()"
   ]
  },
  {
   "attachments": {},
   "cell_type": "markdown",
   "metadata": {},
   "source": [
    "- why can we assume that $a+b$ is constant under the null hypothesis? (similarly, for each row/column)\n",
    "    - (this is needed for the calculation afaict, but maybe I'm wrong)\n",
    "- how exactly does the finite population adjustment fits in?\n",
    "- not sure why we take the log after computing the Mantel&Haenszel. \n",
    "    - actually, I only understand M&H..\n",
    "- How do they use it in the paper, and what exactly happens in the random effects model\n",
    "\n"
   ]
  },
  {
   "attachments": {},
   "cell_type": "markdown",
   "metadata": {},
   "source": [
    "I'll try and implement it directly"
   ]
  },
  {
   "cell_type": "code",
   "execution_count": 36,
   "metadata": {},
   "outputs": [],
   "source": [
    "df['odds_ratio'] = (df['treatment_event'] / df['treatment_non_event']) / (df['control_event'] / df['control_non_event'])"
   ]
  },
  {
   "cell_type": "code",
   "execution_count": 13,
   "metadata": {},
   "outputs": [
    {
     "data": {
      "text/html": [
       "<div>\n",
       "<style scoped>\n",
       "    .dataframe tbody tr th:only-of-type {\n",
       "        vertical-align: middle;\n",
       "    }\n",
       "\n",
       "    .dataframe tbody tr th {\n",
       "        vertical-align: top;\n",
       "    }\n",
       "\n",
       "    .dataframe thead th {\n",
       "        text-align: right;\n",
       "    }\n",
       "</style>\n",
       "<table border=\"1\" class=\"dataframe\">\n",
       "  <thead>\n",
       "    <tr style=\"text-align: right;\">\n",
       "      <th></th>\n",
       "      <th>paper_name</th>\n",
       "      <th>treatment_event</th>\n",
       "      <th>treatment_non_event</th>\n",
       "      <th>control_event</th>\n",
       "      <th>control_non_event</th>\n",
       "      <th>odds_ratio</th>\n",
       "    </tr>\n",
       "  </thead>\n",
       "  <tbody>\n",
       "    <tr>\n",
       "      <th>7</th>\n",
       "      <td>Boisson et al., 2013 (30)</td>\n",
       "      <td>2</td>\n",
       "      <td>1505</td>\n",
       "      <td>1</td>\n",
       "      <td>1507</td>\n",
       "      <td>2.002658</td>\n",
       "    </tr>\n",
       "    <tr>\n",
       "      <th>4</th>\n",
       "      <td>Chiller et al., 2006 (28)</td>\n",
       "      <td>0</td>\n",
       "      <td>132</td>\n",
       "      <td>1</td>\n",
       "      <td>137</td>\n",
       "      <td>0.000000</td>\n",
       "    </tr>\n",
       "    <tr>\n",
       "      <th>2</th>\n",
       "      <td>Crump et al., 2005 (21)</td>\n",
       "      <td>9</td>\n",
       "      <td>1009</td>\n",
       "      <td>15</td>\n",
       "      <td>505</td>\n",
       "      <td>0.300297</td>\n",
       "    </tr>\n",
       "    <tr>\n",
       "      <th>13</th>\n",
       "      <td>Dupas et al. 2021 (34)</td>\n",
       "      <td>5</td>\n",
       "      <td>1288</td>\n",
       "      <td>2</td>\n",
       "      <td>1321</td>\n",
       "      <td>2.564053</td>\n",
       "    </tr>\n",
       "    <tr>\n",
       "      <th>12</th>\n",
       "      <td>Haushofer et al. 2021 (33)</td>\n",
       "      <td>7</td>\n",
       "      <td>987</td>\n",
       "      <td>22</td>\n",
       "      <td>965</td>\n",
       "      <td>0.311090</td>\n",
       "    </tr>\n",
       "  </tbody>\n",
       "</table>\n",
       "</div>"
      ],
      "text/plain": [
       "                    paper_name  treatment_event  treatment_non_event  \\\n",
       "7    Boisson et al., 2013 (30)                2                 1505   \n",
       "4    Chiller et al., 2006 (28)                0                  132   \n",
       "2      Crump et al., 2005 (21)                9                 1009   \n",
       "13      Dupas et al. 2021 (34)                5                 1288   \n",
       "12  Haushofer et al. 2021 (33)                7                  987   \n",
       "\n",
       "    control_event  control_non_event  odds_ratio  \n",
       "7               1               1507    2.002658  \n",
       "4               1                137    0.000000  \n",
       "2              15                505    0.300297  \n",
       "13              2               1321    2.564053  \n",
       "12             22                965    0.311090  "
      ]
     },
     "execution_count": 13,
     "metadata": {},
     "output_type": "execute_result"
    }
   ],
   "source": [
    "df.head()"
   ]
  },
  {
   "cell_type": "code",
   "execution_count": 12,
   "metadata": {},
   "outputs": [],
   "source": [
    "# sort df alphabetically by paper_name\n",
    "df = df.sort_values(by='paper_name')"
   ]
  },
  {
   "cell_type": "code",
   "execution_count": 14,
   "metadata": {},
   "outputs": [
    {
     "data": {
      "text/html": [
       "<div>\n",
       "<style scoped>\n",
       "    .dataframe tbody tr th:only-of-type {\n",
       "        vertical-align: middle;\n",
       "    }\n",
       "\n",
       "    .dataframe tbody tr th {\n",
       "        vertical-align: top;\n",
       "    }\n",
       "\n",
       "    .dataframe thead th {\n",
       "        text-align: right;\n",
       "    }\n",
       "</style>\n",
       "<table border=\"1\" class=\"dataframe\">\n",
       "  <thead>\n",
       "    <tr style=\"text-align: right;\">\n",
       "      <th></th>\n",
       "      <th>paper_name</th>\n",
       "      <th>treatment_event</th>\n",
       "      <th>treatment_non_event</th>\n",
       "      <th>control_event</th>\n",
       "      <th>control_non_event</th>\n",
       "      <th>odds_ratio</th>\n",
       "    </tr>\n",
       "  </thead>\n",
       "  <tbody>\n",
       "    <tr>\n",
       "      <th>7</th>\n",
       "      <td>Boisson et al., 2013 (30)</td>\n",
       "      <td>2</td>\n",
       "      <td>1505</td>\n",
       "      <td>1</td>\n",
       "      <td>1507</td>\n",
       "      <td>2.002658</td>\n",
       "    </tr>\n",
       "    <tr>\n",
       "      <th>4</th>\n",
       "      <td>Chiller et al., 2006 (28)</td>\n",
       "      <td>0</td>\n",
       "      <td>132</td>\n",
       "      <td>1</td>\n",
       "      <td>137</td>\n",
       "      <td>0.000000</td>\n",
       "    </tr>\n",
       "    <tr>\n",
       "      <th>2</th>\n",
       "      <td>Crump et al., 2005 (21)</td>\n",
       "      <td>9</td>\n",
       "      <td>1009</td>\n",
       "      <td>15</td>\n",
       "      <td>505</td>\n",
       "      <td>0.300297</td>\n",
       "    </tr>\n",
       "    <tr>\n",
       "      <th>13</th>\n",
       "      <td>Dupas et al. 2021 (34)</td>\n",
       "      <td>5</td>\n",
       "      <td>1288</td>\n",
       "      <td>2</td>\n",
       "      <td>1321</td>\n",
       "      <td>2.564053</td>\n",
       "    </tr>\n",
       "    <tr>\n",
       "      <th>12</th>\n",
       "      <td>Haushofer et al. 2021 (33)</td>\n",
       "      <td>7</td>\n",
       "      <td>987</td>\n",
       "      <td>22</td>\n",
       "      <td>965</td>\n",
       "      <td>0.311090</td>\n",
       "    </tr>\n",
       "    <tr>\n",
       "      <th>10</th>\n",
       "      <td>Humphrey et al., 2019 (31)</td>\n",
       "      <td>49</td>\n",
       "      <td>946</td>\n",
       "      <td>50</td>\n",
       "      <td>909</td>\n",
       "      <td>0.941670</td>\n",
       "    </tr>\n",
       "    <tr>\n",
       "      <th>11</th>\n",
       "      <td>Kirby et al., 2019 (32)</td>\n",
       "      <td>8</td>\n",
       "      <td>1198</td>\n",
       "      <td>12</td>\n",
       "      <td>1252</td>\n",
       "      <td>0.696717</td>\n",
       "    </tr>\n",
       "    <tr>\n",
       "      <th>5</th>\n",
       "      <td>Kremer et. al., 2011 (29)</td>\n",
       "      <td>18</td>\n",
       "      <td>691</td>\n",
       "      <td>47</td>\n",
       "      <td>1465</td>\n",
       "      <td>0.811959</td>\n",
       "    </tr>\n",
       "    <tr>\n",
       "      <th>3</th>\n",
       "      <td>Luby et al., 2006 (19)</td>\n",
       "      <td>2</td>\n",
       "      <td>1013</td>\n",
       "      <td>0</td>\n",
       "      <td>553</td>\n",
       "      <td>inf</td>\n",
       "    </tr>\n",
       "    <tr>\n",
       "      <th>9</th>\n",
       "      <td>Luby et al., 2018 (20)</td>\n",
       "      <td>27</td>\n",
       "      <td>629</td>\n",
       "      <td>62</td>\n",
       "      <td>1244</td>\n",
       "      <td>0.861275</td>\n",
       "    </tr>\n",
       "    <tr>\n",
       "      <th>8</th>\n",
       "      <td>Null et al., 2018 (18)</td>\n",
       "      <td>30</td>\n",
       "      <td>858</td>\n",
       "      <td>114</td>\n",
       "      <td>2697</td>\n",
       "      <td>0.827199</td>\n",
       "    </tr>\n",
       "    <tr>\n",
       "      <th>6</th>\n",
       "      <td>Peletz et al., 2012 (22)</td>\n",
       "      <td>3</td>\n",
       "      <td>58</td>\n",
       "      <td>6</td>\n",
       "      <td>54</td>\n",
       "      <td>0.465517</td>\n",
       "    </tr>\n",
       "    <tr>\n",
       "      <th>14</th>\n",
       "      <td>Quick et al. 1999 (35)</td>\n",
       "      <td>0</td>\n",
       "      <td>400</td>\n",
       "      <td>0</td>\n",
       "      <td>391</td>\n",
       "      <td>NaN</td>\n",
       "    </tr>\n",
       "    <tr>\n",
       "      <th>1</th>\n",
       "      <td>Reller et al., 2003 (27)</td>\n",
       "      <td>10</td>\n",
       "      <td>729</td>\n",
       "      <td>5</td>\n",
       "      <td>182</td>\n",
       "      <td>0.499314</td>\n",
       "    </tr>\n",
       "    <tr>\n",
       "      <th>0</th>\n",
       "      <td>Semenza et al., 1998 (26)</td>\n",
       "      <td>0</td>\n",
       "      <td>88</td>\n",
       "      <td>2</td>\n",
       "      <td>78</td>\n",
       "      <td>0.000000</td>\n",
       "    </tr>\n",
       "  </tbody>\n",
       "</table>\n",
       "</div>"
      ],
      "text/plain": [
       "                    paper_name  treatment_event  treatment_non_event  \\\n",
       "7    Boisson et al., 2013 (30)                2                 1505   \n",
       "4    Chiller et al., 2006 (28)                0                  132   \n",
       "2      Crump et al., 2005 (21)                9                 1009   \n",
       "13      Dupas et al. 2021 (34)                5                 1288   \n",
       "12  Haushofer et al. 2021 (33)                7                  987   \n",
       "10  Humphrey et al., 2019 (31)               49                  946   \n",
       "11     Kirby et al., 2019 (32)                8                 1198   \n",
       "5    Kremer et. al., 2011 (29)               18                  691   \n",
       "3       Luby et al., 2006 (19)                2                 1013   \n",
       "9       Luby et al., 2018 (20)               27                  629   \n",
       "8       Null et al., 2018 (18)               30                  858   \n",
       "6     Peletz et al., 2012 (22)                3                   58   \n",
       "14      Quick et al. 1999 (35)                0                  400   \n",
       "1     Reller et al., 2003 (27)               10                  729   \n",
       "0    Semenza et al., 1998 (26)                0                   88   \n",
       "\n",
       "    control_event  control_non_event  odds_ratio  \n",
       "7               1               1507    2.002658  \n",
       "4               1                137    0.000000  \n",
       "2              15                505    0.300297  \n",
       "13              2               1321    2.564053  \n",
       "12             22                965    0.311090  \n",
       "10             50                909    0.941670  \n",
       "11             12               1252    0.696717  \n",
       "5              47               1465    0.811959  \n",
       "3               0                553         inf  \n",
       "9              62               1244    0.861275  \n",
       "8             114               2697    0.827199  \n",
       "6               6                 54    0.465517  \n",
       "14              0                391         NaN  \n",
       "1               5                182    0.499314  \n",
       "0               2                 78    0.000000  "
      ]
     },
     "execution_count": 14,
     "metadata": {},
     "output_type": "execute_result"
    }
   ],
   "source": [
    "df"
   ]
  },
  {
   "cell_type": "code",
   "execution_count": 21,
   "metadata": {},
   "outputs": [],
   "source": [
    "def peto_odds_single_study(a, b, c, d):\n",
    "    if a == 0 and c == 0:\n",
    "        # increase all counts by 0.5\n",
    "        a += 0.5\n",
    "        b += 0.5\n",
    "        c += 0.5\n",
    "        d += 0.5\n",
    "    O = a\n",
    "    n = a + b + c + d\n",
    "    E = (a + b) * (a + c) / n\n",
    "    V = (a + b) * (a + c) * (c + d) * (b + d) / (n ** 2 * (n - 1))\n",
    "    return np.exp((O - E) / V)\n"
   ]
  },
  {
   "cell_type": "code",
   "execution_count": 22,
   "metadata": {},
   "outputs": [],
   "source": [
    "df['peto_odds_ratio'] = df.apply(lambda row: peto_odds_single_study(row['treatment_event'], row['treatment_non_event'], row['control_event'], row['control_non_event']), axis=1)"
   ]
  },
  {
   "cell_type": "code",
   "execution_count": 23,
   "metadata": {},
   "outputs": [
    {
     "data": {
      "text/html": [
       "<div>\n",
       "<style scoped>\n",
       "    .dataframe tbody tr th:only-of-type {\n",
       "        vertical-align: middle;\n",
       "    }\n",
       "\n",
       "    .dataframe tbody tr th {\n",
       "        vertical-align: top;\n",
       "    }\n",
       "\n",
       "    .dataframe thead th {\n",
       "        text-align: right;\n",
       "    }\n",
       "</style>\n",
       "<table border=\"1\" class=\"dataframe\">\n",
       "  <thead>\n",
       "    <tr style=\"text-align: right;\">\n",
       "      <th></th>\n",
       "      <th>paper_name</th>\n",
       "      <th>treatment_event</th>\n",
       "      <th>treatment_non_event</th>\n",
       "      <th>control_event</th>\n",
       "      <th>control_non_event</th>\n",
       "      <th>odds_ratio</th>\n",
       "      <th>peto_odds_ratio</th>\n",
       "    </tr>\n",
       "  </thead>\n",
       "  <tbody>\n",
       "    <tr>\n",
       "      <th>7</th>\n",
       "      <td>Boisson et al., 2013 (30)</td>\n",
       "      <td>2</td>\n",
       "      <td>1505</td>\n",
       "      <td>1</td>\n",
       "      <td>1507</td>\n",
       "      <td>2.002658</td>\n",
       "      <td>1.949890</td>\n",
       "    </tr>\n",
       "    <tr>\n",
       "      <th>4</th>\n",
       "      <td>Chiller et al., 2006 (28)</td>\n",
       "      <td>0</td>\n",
       "      <td>132</td>\n",
       "      <td>1</td>\n",
       "      <td>137</td>\n",
       "      <td>0.000000</td>\n",
       "      <td>0.382935</td>\n",
       "    </tr>\n",
       "    <tr>\n",
       "      <th>2</th>\n",
       "      <td>Crump et al., 2005 (21)</td>\n",
       "      <td>9</td>\n",
       "      <td>1009</td>\n",
       "      <td>15</td>\n",
       "      <td>505</td>\n",
       "      <td>0.300297</td>\n",
       "      <td>0.272128</td>\n",
       "    </tr>\n",
       "    <tr>\n",
       "      <th>13</th>\n",
       "      <td>Dupas et al. 2021 (34)</td>\n",
       "      <td>5</td>\n",
       "      <td>1288</td>\n",
       "      <td>2</td>\n",
       "      <td>1321</td>\n",
       "      <td>2.564053</td>\n",
       "      <td>2.416254</td>\n",
       "    </tr>\n",
       "    <tr>\n",
       "      <th>12</th>\n",
       "      <td>Haushofer et al. 2021 (33)</td>\n",
       "      <td>7</td>\n",
       "      <td>987</td>\n",
       "      <td>22</td>\n",
       "      <td>965</td>\n",
       "      <td>0.311090</td>\n",
       "      <td>0.347669</td>\n",
       "    </tr>\n",
       "    <tr>\n",
       "      <th>10</th>\n",
       "      <td>Humphrey et al., 2019 (31)</td>\n",
       "      <td>49</td>\n",
       "      <td>946</td>\n",
       "      <td>50</td>\n",
       "      <td>909</td>\n",
       "      <td>0.941670</td>\n",
       "      <td>0.941686</td>\n",
       "    </tr>\n",
       "    <tr>\n",
       "      <th>11</th>\n",
       "      <td>Kirby et al., 2019 (32)</td>\n",
       "      <td>8</td>\n",
       "      <td>1198</td>\n",
       "      <td>12</td>\n",
       "      <td>1252</td>\n",
       "      <td>0.696717</td>\n",
       "      <td>0.700493</td>\n",
       "    </tr>\n",
       "    <tr>\n",
       "      <th>5</th>\n",
       "      <td>Kremer et. al., 2011 (29)</td>\n",
       "      <td>18</td>\n",
       "      <td>691</td>\n",
       "      <td>47</td>\n",
       "      <td>1465</td>\n",
       "      <td>0.811959</td>\n",
       "      <td>0.818376</td>\n",
       "    </tr>\n",
       "    <tr>\n",
       "      <th>3</th>\n",
       "      <td>Luby et al., 2006 (19)</td>\n",
       "      <td>2</td>\n",
       "      <td>1013</td>\n",
       "      <td>0</td>\n",
       "      <td>553</td>\n",
       "      <td>inf</td>\n",
       "      <td>2.262449</td>\n",
       "    </tr>\n",
       "    <tr>\n",
       "      <th>9</th>\n",
       "      <td>Luby et al., 2018 (20)</td>\n",
       "      <td>27</td>\n",
       "      <td>629</td>\n",
       "      <td>62</td>\n",
       "      <td>1244</td>\n",
       "      <td>0.861275</td>\n",
       "      <td>0.864377</td>\n",
       "    </tr>\n",
       "    <tr>\n",
       "      <th>8</th>\n",
       "      <td>Null et al., 2018 (18)</td>\n",
       "      <td>30</td>\n",
       "      <td>858</td>\n",
       "      <td>114</td>\n",
       "      <td>2697</td>\n",
       "      <td>0.827199</td>\n",
       "      <td>0.834493</td>\n",
       "    </tr>\n",
       "    <tr>\n",
       "      <th>6</th>\n",
       "      <td>Peletz et al., 2012 (22)</td>\n",
       "      <td>3</td>\n",
       "      <td>58</td>\n",
       "      <td>6</td>\n",
       "      <td>54</td>\n",
       "      <td>0.465517</td>\n",
       "      <td>0.480924</td>\n",
       "    </tr>\n",
       "    <tr>\n",
       "      <th>14</th>\n",
       "      <td>Quick et al. 1999 (35)</td>\n",
       "      <td>0</td>\n",
       "      <td>400</td>\n",
       "      <td>0</td>\n",
       "      <td>391</td>\n",
       "      <td>NaN</td>\n",
       "      <td>0.977554</td>\n",
       "    </tr>\n",
       "    <tr>\n",
       "      <th>1</th>\n",
       "      <td>Reller et al., 2003 (27)</td>\n",
       "      <td>10</td>\n",
       "      <td>729</td>\n",
       "      <td>5</td>\n",
       "      <td>182</td>\n",
       "      <td>0.499314</td>\n",
       "      <td>0.437014</td>\n",
       "    </tr>\n",
       "    <tr>\n",
       "      <th>0</th>\n",
       "      <td>Semenza et al., 1998 (26)</td>\n",
       "      <td>0</td>\n",
       "      <td>88</td>\n",
       "      <td>2</td>\n",
       "      <td>78</td>\n",
       "      <td>0.000000</td>\n",
       "      <td>0.235098</td>\n",
       "    </tr>\n",
       "  </tbody>\n",
       "</table>\n",
       "</div>"
      ],
      "text/plain": [
       "                    paper_name  treatment_event  treatment_non_event  \\\n",
       "7    Boisson et al., 2013 (30)                2                 1505   \n",
       "4    Chiller et al., 2006 (28)                0                  132   \n",
       "2      Crump et al., 2005 (21)                9                 1009   \n",
       "13      Dupas et al. 2021 (34)                5                 1288   \n",
       "12  Haushofer et al. 2021 (33)                7                  987   \n",
       "10  Humphrey et al., 2019 (31)               49                  946   \n",
       "11     Kirby et al., 2019 (32)                8                 1198   \n",
       "5    Kremer et. al., 2011 (29)               18                  691   \n",
       "3       Luby et al., 2006 (19)                2                 1013   \n",
       "9       Luby et al., 2018 (20)               27                  629   \n",
       "8       Null et al., 2018 (18)               30                  858   \n",
       "6     Peletz et al., 2012 (22)                3                   58   \n",
       "14      Quick et al. 1999 (35)                0                  400   \n",
       "1     Reller et al., 2003 (27)               10                  729   \n",
       "0    Semenza et al., 1998 (26)                0                   88   \n",
       "\n",
       "    control_event  control_non_event  odds_ratio  peto_odds_ratio  \n",
       "7               1               1507    2.002658         1.949890  \n",
       "4               1                137    0.000000         0.382935  \n",
       "2              15                505    0.300297         0.272128  \n",
       "13              2               1321    2.564053         2.416254  \n",
       "12             22                965    0.311090         0.347669  \n",
       "10             50                909    0.941670         0.941686  \n",
       "11             12               1252    0.696717         0.700493  \n",
       "5              47               1465    0.811959         0.818376  \n",
       "3               0                553         inf         2.262449  \n",
       "9              62               1244    0.861275         0.864377  \n",
       "8             114               2697    0.827199         0.834493  \n",
       "6               6                 54    0.465517         0.480924  \n",
       "14              0                391         NaN         0.977554  \n",
       "1               5                182    0.499314         0.437014  \n",
       "0               2                 78    0.000000         0.235098  "
      ]
     },
     "execution_count": 23,
     "metadata": {},
     "output_type": "execute_result"
    }
   ],
   "source": [
    "df"
   ]
  },
  {
   "cell_type": "code",
   "execution_count": 29,
   "metadata": {},
   "outputs": [
    {
     "name": "stdout",
     "output_type": "stream",
     "text": [
      "0.0010,0.0010,1.0000,1.0000\n",
      "0.0010,0.0033,0.1192,0.3070\n",
      "0.0010,0.0055,0.0616,0.1810\n",
      "0.0010,0.0078,0.0445,0.1282\n",
      "0.0010,0.0100,0.0365,0.0991\n",
      "0.0033,0.0010,8.3870,3.2573\n",
      "0.0033,0.0033,1.0000,1.0000\n",
      "0.0033,0.0055,0.3543,0.5896\n",
      "0.0033,0.0078,0.1912,0.4175\n",
      "0.0033,0.0100,0.1268,0.3228\n",
      "0.0055,0.0010,16.2379,5.5249\n",
      "0.0055,0.0033,2.8226,1.6961\n",
      "0.0055,0.0055,1.0000,1.0000\n",
      "0.0055,0.0078,0.5024,0.7081\n",
      "0.0055,0.0100,0.3074,0.5475\n",
      "0.0078,0.0010,22.4873,7.8027\n",
      "0.0078,0.0033,5.2308,2.3954\n",
      "0.0078,0.0055,1.9905,1.4123\n",
      "0.0078,0.0078,1.0000,1.0000\n",
      "0.0078,0.0100,0.5968,0.7732\n",
      "0.0100,0.0010,27.3612,10.0909\n",
      "0.0100,0.0033,7.8861,3.0979\n",
      "0.0100,0.0055,3.2530,1.8264\n",
      "0.0100,0.0078,1.6757,1.2933\n",
      "0.0100,0.0100,1.0000,1.0000\n"
     ]
    }
   ],
   "source": [
    "\n",
    "def peto_approx(pt, pc):\n",
    "    return np.exp(4 * (pt - pc) / ((pt + pc) * (1 - pt - pc)))\n",
    "def odds(pt, pc):\n",
    "    return pt / (1 - pt) / (pc / (1 - pc))\n",
    "\n",
    "# compare peto approx to odds ratio on a grid of values\n",
    "for pt in np.linspace(0.001, 0.01, 5):\n",
    "    for pc in np.linspace(0.001, 0.01, 5):\n",
    "        # print the values of pt, pc, peto_approx, and odds ratio, separated by commas, exactly 4 digits each\n",
    "        print(f'{pt:.4f}, {pc:.4f}, {peto_approx(pt, pc):.4f}, {odds(pt, pc):.4f}')        "
   ]
  },
  {
   "attachments": {},
   "cell_type": "markdown",
   "metadata": {},
   "source": [
    "I'm not sure that Peto odds makes sense. I've looked at [this paper](https://onlinelibrary.wiley.com/doi/epdf/10.1002/bimj.201600034), and indeed it is behaving weird (although I'm not sure yet about the bottom line). \n",
    "\n",
    "The computation above compares the real OR with Peto OR in some cases, using an approximation for the expected peto OR in the limit $n\\to\\infty$ and assuming that both treatment and control arms have the exact same number of participants. Skewing the arm sizes further would bias Peto OR further.\n",
    "\n",
    "That said, the ordinary OR estimator (just taking the observed odds ratio) is also biased. To see this, consider estimating $\\frac{1}{p}$ from observing $n$ i.i.d Ber($p$) results. We expect the number of events, $e$, to be $pn$, but the expected value of $\\frac{n}{e}$ isn't $\\frac{1}{p}$."
   ]
  },
  {
   "attachments": {},
   "cell_type": "markdown",
   "metadata": {},
   "source": [
    "We can maybe try and use bootstrap to do that without bias. "
   ]
  },
  {
   "cell_type": "code",
   "execution_count": 61,
   "metadata": {},
   "outputs": [],
   "source": [
    "# approximate the odds ratio using bootsrap\n",
    "def bootstrap_odds_ratio(treatment_event, treatment_non_event, control_event, control_non_event, n_samples=10000):\n",
    "    if treatment_event == 0 and control_event == 0:\n",
    "        return np.nan, np.nan, np.nan\n",
    "    treatment = np.concatenate([np.ones(treatment_event), np.zeros(treatment_non_event)])\n",
    "    control = np.concatenate([np.ones(control_event), np.zeros(control_non_event)])\n",
    "    odds_ratios = []\n",
    "    for i in range(n_samples):\n",
    "        treatment_sample = np.random.choice(treatment, size=len(treatment), replace=True)\n",
    "        control_sample = np.random.choice(control, size=len(control), replace=True)\n",
    "        if np.sum(control_sample) == 0:\n",
    "            if np.sum(treatment_sample) == 0:\n",
    "                odds_ratios.append(np.nan)\n",
    "            odds_ratios.append(np.inf)\n",
    "        else:\n",
    "            odds_ratios.append(np.sum(treatment_sample) / (len(treatment_sample) - np.sum(treatment_sample)) / (np.sum(control_sample) / (len(control_sample) - np.sum(control_sample))))\n",
    "    # if the number of nan values is less than 1% of the total number of samples, drop them\n",
    "    if np.sum(np.isnan(odds_ratios)) < 0.01 * len(odds_ratios):\n",
    "        odds_ratios = [x for x in odds_ratios if not np.isnan(x)]\n",
    "    return np.mean(odds_ratios), np.percentile(odds_ratios, 2.5), np.percentile(odds_ratios, 97.5)\n"
   ]
  },
  {
   "cell_type": "code",
   "execution_count": 62,
   "metadata": {},
   "outputs": [
    {
     "name": "stderr",
     "output_type": "stream",
     "text": [
      "c:\\Users\\edoar\\AppData\\Local\\Programs\\Python\\Python310\\lib\\site-packages\\numpy\\lib\\function_base.py:4527: RuntimeWarning: invalid value encountered in subtract\n",
      "  diff_b_a = subtract(b, a)\n"
     ]
    }
   ],
   "source": [
    "# add columns for the odds ratio and 95% confidence interval\n",
    "df['bs_odds_ratio'], df['bs_odds_ratio_lower'], df['bs_odds_ratio_upper'] = zip(*df.apply(lambda row: bootstrap_odds_ratio(row['treatment_event'], row['treatment_non_event'], row['control_event'], row['control_non_event']), axis=1))"
   ]
  },
  {
   "cell_type": "code",
   "execution_count": 63,
   "metadata": {},
   "outputs": [
    {
     "data": {
      "text/html": [
       "<div>\n",
       "<style scoped>\n",
       "    .dataframe tbody tr th:only-of-type {\n",
       "        vertical-align: middle;\n",
       "    }\n",
       "\n",
       "    .dataframe tbody tr th {\n",
       "        vertical-align: top;\n",
       "    }\n",
       "\n",
       "    .dataframe thead th {\n",
       "        text-align: right;\n",
       "    }\n",
       "</style>\n",
       "<table border=\"1\" class=\"dataframe\">\n",
       "  <thead>\n",
       "    <tr style=\"text-align: right;\">\n",
       "      <th></th>\n",
       "      <th>paper_name</th>\n",
       "      <th>treatment_event</th>\n",
       "      <th>treatment_non_event</th>\n",
       "      <th>control_event</th>\n",
       "      <th>control_non_event</th>\n",
       "      <th>odds_ratio</th>\n",
       "      <th>peto_odds_ratio</th>\n",
       "      <th>bs_odds_ratio</th>\n",
       "      <th>bs_odds_ratio_lower</th>\n",
       "      <th>bs_odds_ratio_upper</th>\n",
       "    </tr>\n",
       "  </thead>\n",
       "  <tbody>\n",
       "    <tr>\n",
       "      <th>7</th>\n",
       "      <td>Boisson et al., 2013 (30)</td>\n",
       "      <td>2</td>\n",
       "      <td>1505</td>\n",
       "      <td>1</td>\n",
       "      <td>1507</td>\n",
       "      <td>2.002658</td>\n",
       "      <td>1.949890</td>\n",
       "      <td>NaN</td>\n",
       "      <td>NaN</td>\n",
       "      <td>NaN</td>\n",
       "    </tr>\n",
       "    <tr>\n",
       "      <th>4</th>\n",
       "      <td>Chiller et al., 2006 (28)</td>\n",
       "      <td>0</td>\n",
       "      <td>132</td>\n",
       "      <td>1</td>\n",
       "      <td>137</td>\n",
       "      <td>0.000000</td>\n",
       "      <td>0.382935</td>\n",
       "      <td>NaN</td>\n",
       "      <td>NaN</td>\n",
       "      <td>NaN</td>\n",
       "    </tr>\n",
       "    <tr>\n",
       "      <th>2</th>\n",
       "      <td>Crump et al., 2005 (21)</td>\n",
       "      <td>9</td>\n",
       "      <td>1009</td>\n",
       "      <td>15</td>\n",
       "      <td>505</td>\n",
       "      <td>0.300297</td>\n",
       "      <td>0.272128</td>\n",
       "      <td>0.320440</td>\n",
       "      <td>0.110015</td>\n",
       "      <td>0.678548</td>\n",
       "    </tr>\n",
       "    <tr>\n",
       "      <th>13</th>\n",
       "      <td>Dupas et al. 2021 (34)</td>\n",
       "      <td>5</td>\n",
       "      <td>1288</td>\n",
       "      <td>2</td>\n",
       "      <td>1321</td>\n",
       "      <td>2.564053</td>\n",
       "      <td>2.416254</td>\n",
       "      <td>inf</td>\n",
       "      <td>0.510844</td>\n",
       "      <td>NaN</td>\n",
       "    </tr>\n",
       "    <tr>\n",
       "      <th>12</th>\n",
       "      <td>Haushofer et al. 2021 (33)</td>\n",
       "      <td>7</td>\n",
       "      <td>987</td>\n",
       "      <td>22</td>\n",
       "      <td>965</td>\n",
       "      <td>0.311090</td>\n",
       "      <td>0.347669</td>\n",
       "      <td>0.328388</td>\n",
       "      <td>0.100003</td>\n",
       "      <td>0.684604</td>\n",
       "    </tr>\n",
       "    <tr>\n",
       "      <th>10</th>\n",
       "      <td>Humphrey et al., 2019 (31)</td>\n",
       "      <td>49</td>\n",
       "      <td>946</td>\n",
       "      <td>50</td>\n",
       "      <td>909</td>\n",
       "      <td>0.941670</td>\n",
       "      <td>0.941686</td>\n",
       "      <td>0.965756</td>\n",
       "      <td>0.628333</td>\n",
       "      <td>1.422145</td>\n",
       "    </tr>\n",
       "    <tr>\n",
       "      <th>11</th>\n",
       "      <td>Kirby et al., 2019 (32)</td>\n",
       "      <td>8</td>\n",
       "      <td>1198</td>\n",
       "      <td>12</td>\n",
       "      <td>1252</td>\n",
       "      <td>0.696717</td>\n",
       "      <td>0.700493</td>\n",
       "      <td>0.771079</td>\n",
       "      <td>0.235031</td>\n",
       "      <td>1.804738</td>\n",
       "    </tr>\n",
       "    <tr>\n",
       "      <th>5</th>\n",
       "      <td>Kremer et. al., 2011 (29)</td>\n",
       "      <td>18</td>\n",
       "      <td>691</td>\n",
       "      <td>47</td>\n",
       "      <td>1465</td>\n",
       "      <td>0.811959</td>\n",
       "      <td>0.818376</td>\n",
       "      <td>0.832568</td>\n",
       "      <td>0.433827</td>\n",
       "      <td>1.359050</td>\n",
       "    </tr>\n",
       "    <tr>\n",
       "      <th>3</th>\n",
       "      <td>Luby et al., 2006 (19)</td>\n",
       "      <td>2</td>\n",
       "      <td>1013</td>\n",
       "      <td>0</td>\n",
       "      <td>553</td>\n",
       "      <td>inf</td>\n",
       "      <td>2.262449</td>\n",
       "      <td>NaN</td>\n",
       "      <td>NaN</td>\n",
       "      <td>NaN</td>\n",
       "    </tr>\n",
       "    <tr>\n",
       "      <th>9</th>\n",
       "      <td>Luby et al., 2018 (20)</td>\n",
       "      <td>27</td>\n",
       "      <td>629</td>\n",
       "      <td>62</td>\n",
       "      <td>1244</td>\n",
       "      <td>0.861275</td>\n",
       "      <td>0.864377</td>\n",
       "      <td>0.871704</td>\n",
       "      <td>0.511207</td>\n",
       "      <td>1.335961</td>\n",
       "    </tr>\n",
       "    <tr>\n",
       "      <th>8</th>\n",
       "      <td>Null et al., 2018 (18)</td>\n",
       "      <td>30</td>\n",
       "      <td>858</td>\n",
       "      <td>114</td>\n",
       "      <td>2697</td>\n",
       "      <td>0.827199</td>\n",
       "      <td>0.834493</td>\n",
       "      <td>0.836001</td>\n",
       "      <td>0.524863</td>\n",
       "      <td>1.207591</td>\n",
       "    </tr>\n",
       "    <tr>\n",
       "      <th>6</th>\n",
       "      <td>Peletz et al., 2012 (22)</td>\n",
       "      <td>3</td>\n",
       "      <td>58</td>\n",
       "      <td>6</td>\n",
       "      <td>54</td>\n",
       "      <td>0.465517</td>\n",
       "      <td>0.480924</td>\n",
       "      <td>inf</td>\n",
       "      <td>0.000000</td>\n",
       "      <td>2.035088</td>\n",
       "    </tr>\n",
       "    <tr>\n",
       "      <th>14</th>\n",
       "      <td>Quick et al. 1999 (35)</td>\n",
       "      <td>0</td>\n",
       "      <td>400</td>\n",
       "      <td>0</td>\n",
       "      <td>391</td>\n",
       "      <td>NaN</td>\n",
       "      <td>0.977554</td>\n",
       "      <td>NaN</td>\n",
       "      <td>NaN</td>\n",
       "      <td>NaN</td>\n",
       "    </tr>\n",
       "    <tr>\n",
       "      <th>1</th>\n",
       "      <td>Reller et al., 2003 (27)</td>\n",
       "      <td>10</td>\n",
       "      <td>729</td>\n",
       "      <td>5</td>\n",
       "      <td>182</td>\n",
       "      <td>0.499314</td>\n",
       "      <td>0.437014</td>\n",
       "      <td>inf</td>\n",
       "      <td>0.164172</td>\n",
       "      <td>2.551440</td>\n",
       "    </tr>\n",
       "    <tr>\n",
       "      <th>0</th>\n",
       "      <td>Semenza et al., 1998 (26)</td>\n",
       "      <td>0</td>\n",
       "      <td>88</td>\n",
       "      <td>2</td>\n",
       "      <td>78</td>\n",
       "      <td>0.000000</td>\n",
       "      <td>0.235098</td>\n",
       "      <td>NaN</td>\n",
       "      <td>NaN</td>\n",
       "      <td>NaN</td>\n",
       "    </tr>\n",
       "  </tbody>\n",
       "</table>\n",
       "</div>"
      ],
      "text/plain": [
       "                    paper_name  treatment_event  treatment_non_event  \\\n",
       "7    Boisson et al., 2013 (30)                2                 1505   \n",
       "4    Chiller et al., 2006 (28)                0                  132   \n",
       "2      Crump et al., 2005 (21)                9                 1009   \n",
       "13      Dupas et al. 2021 (34)                5                 1288   \n",
       "12  Haushofer et al. 2021 (33)                7                  987   \n",
       "10  Humphrey et al., 2019 (31)               49                  946   \n",
       "11     Kirby et al., 2019 (32)                8                 1198   \n",
       "5    Kremer et. al., 2011 (29)               18                  691   \n",
       "3       Luby et al., 2006 (19)                2                 1013   \n",
       "9       Luby et al., 2018 (20)               27                  629   \n",
       "8       Null et al., 2018 (18)               30                  858   \n",
       "6     Peletz et al., 2012 (22)                3                   58   \n",
       "14      Quick et al. 1999 (35)                0                  400   \n",
       "1     Reller et al., 2003 (27)               10                  729   \n",
       "0    Semenza et al., 1998 (26)                0                   88   \n",
       "\n",
       "    control_event  control_non_event  odds_ratio  peto_odds_ratio  \\\n",
       "7               1               1507    2.002658         1.949890   \n",
       "4               1                137    0.000000         0.382935   \n",
       "2              15                505    0.300297         0.272128   \n",
       "13              2               1321    2.564053         2.416254   \n",
       "12             22                965    0.311090         0.347669   \n",
       "10             50                909    0.941670         0.941686   \n",
       "11             12               1252    0.696717         0.700493   \n",
       "5              47               1465    0.811959         0.818376   \n",
       "3               0                553         inf         2.262449   \n",
       "9              62               1244    0.861275         0.864377   \n",
       "8             114               2697    0.827199         0.834493   \n",
       "6               6                 54    0.465517         0.480924   \n",
       "14              0                391         NaN         0.977554   \n",
       "1               5                182    0.499314         0.437014   \n",
       "0               2                 78    0.000000         0.235098   \n",
       "\n",
       "    bs_odds_ratio  bs_odds_ratio_lower  bs_odds_ratio_upper  \n",
       "7             NaN                  NaN                  NaN  \n",
       "4             NaN                  NaN                  NaN  \n",
       "2        0.320440             0.110015             0.678548  \n",
       "13            inf             0.510844                  NaN  \n",
       "12       0.328388             0.100003             0.684604  \n",
       "10       0.965756             0.628333             1.422145  \n",
       "11       0.771079             0.235031             1.804738  \n",
       "5        0.832568             0.433827             1.359050  \n",
       "3             NaN                  NaN                  NaN  \n",
       "9        0.871704             0.511207             1.335961  \n",
       "8        0.836001             0.524863             1.207591  \n",
       "6             inf             0.000000             2.035088  \n",
       "14            NaN                  NaN                  NaN  \n",
       "1             inf             0.164172             2.551440  \n",
       "0             NaN                  NaN                  NaN  "
      ]
     },
     "execution_count": 63,
     "metadata": {},
     "output_type": "execute_result"
    }
   ],
   "source": [
    "df"
   ]
  },
  {
   "attachments": {
    "image.png": {
     "image/png": "[encoded data removed]"
    }
   },
   "cell_type": "markdown",
   "metadata": {},
   "source": [
    "![image.png](attachment:image.png)"
   ]
  },
  {
   "attachments": {},
   "cell_type": "markdown",
   "metadata": {},
   "source": [
    "Overall, these odds ratios and their confidence intervals aren't that far away from my bootstrap computation.\n",
    "\n",
    "Next, I'd like to calculate the Peto OR CIs with both bootstrap and under assumption of (log?)normality"
   ]
  },
  {
   "attachments": {},
   "cell_type": "markdown",
   "metadata": {},
   "source": [
    "Actually, I think that the most important task today is to understand how to compute the total Peto OR, and how that is used in the cost effectiveness analysis. Also, I want to solve this for myself. I expect to be able to reach a better solution, trying to estimate the OR directly.\n",
    "\n",
    "It'd also be interesting to understand the Peto OR under random effects, and to be convinced that the bootstrap method is unbiased in this case.\n"
   ]
  },
  {
   "cell_type": "code",
   "execution_count": 72,
   "metadata": {},
   "outputs": [],
   "source": [
    "def total_peto_odds(df):\n",
    "    df = df.copy()\n",
    "    # add 0.5 to all counts for studies with 0 events in both treatment and control\n",
    "    df.loc[(df['treatment_event'] == 0) & (df['control_event'] == 0), ['treatment_event', 'treatment_non_event', 'control_event', 'control_non_event']] += 0.5\n",
    "    O = df['treatment_event'].sum()\n",
    "    E = df.apply(lambda row: (row['treatment_event'] + row['treatment_non_event']) * (row['treatment_event'] + row['control_event']) / (row['treatment_event'] + row['treatment_non_event'] + row['control_event'] + row['control_non_event']), axis=1).sum()\n",
    "    def v(row):\n",
    "        n = row['treatment_event'] + row['treatment_non_event'] + row['control_event'] + row['control_non_event']\n",
    "        return (row['treatment_event'] + row['treatment_non_event']) * (row['treatment_event'] + row['control_event']) * (row['control_event'] + row['control_non_event']) * (row['treatment_non_event'] + row['control_non_event']) / (n ** 2 * (n - 1))\n",
    "    V = df.apply(lambda row: v(row), axis=1).sum()\n",
    "    return np.exp((O - E) / V)\n"
   ]
  },
  {
   "cell_type": "code",
   "execution_count": 65,
   "metadata": {},
   "outputs": [
    {
     "data": {
      "text/plain": [
       "0.7555144440019363"
      ]
     },
     "execution_count": 65,
     "metadata": {},
     "output_type": "execute_result"
    }
   ],
   "source": [
    "total_peto_odds(df)"
   ]
  },
  {
   "cell_type": "code",
   "execution_count": 69,
   "metadata": {},
   "outputs": [],
   "source": [
    "df['treatment_type'] = df.apply(lambda row: 'Filtration' if ('kirby' in row['paper_name'].lower() or 'peletz' in row['paper_name'].lower()) else 'Spring protection' if 'kremer' in row['paper_name'].lower() else 'Chlorine', axis=1)"
   ]
  },
  {
   "cell_type": "code",
   "execution_count": 73,
   "metadata": {},
   "outputs": [
    {
     "data": {
      "text/plain": [
       "0.7580657243056321"
      ]
     },
     "execution_count": 73,
     "metadata": {},
     "output_type": "execute_result"
    }
   ],
   "source": [
    "total_peto_odds(df[df['treatment_type'] == 'Chlorine'])"
   ]
  },
  {
   "attachments": {},
   "cell_type": "markdown",
   "metadata": {},
   "source": [
    "The results are different than in the paper.. The results I got eariler were closer, I think, and I've attributed that to the distinction between fixed and random effects. It could be the case now also."
   ]
  },
  {
   "cell_type": "code",
   "execution_count": 166,
   "metadata": {},
   "outputs": [],
   "source": [
    "# calculate the total odds ratio using bootsrap \n",
    "# For a random person in the population, we can ask how their odds change between the treatment and the control group.\n",
    "# This can be estimated per study by sampling from the treatment and control groups with replacement, and calculating the odds ratio for each sample. \n",
    "# However, to estimate the total odds ratio, we need to sample from the treatment and control groups of all studies simultaneously.\n",
    "# If the odds ratio is independent between studies, (the underlying assumption of the fixed effects model), then we can sample from the sum total of all treatment and control groups. (I think)\n",
    "def total_odds_by_bootstrap(df, n_samples=10_000):\n",
    "    all_odds_ratios = []\n",
    "    def naive_odds(df):\n",
    "        if df['control_event'].sum() == 0:\n",
    "            return np.nan\n",
    "        return (df['treatment_event'].sum() / df['treatment_non_event'].sum()) / (df['control_event'].sum() / df['control_non_event'].sum())\n",
    "    def sample_row(row):\n",
    "        total_treatment = row['treatment_event'] + row['treatment_non_event']\n",
    "        total_control = row['control_event'] + row['control_non_event']\n",
    "        return np.random.multinomial(total_treatment, [row['treatment_event']/total_treatment, row['treatment_non_event']/total_treatment] ).tolist() + np.random.multinomial(total_control , [row['control_event']/total_control, row['control_non_event']/total_control] ).tolist()\n",
    "    for _ in range(n_samples):\n",
    "        df_sample = df.copy()\n",
    "        # change each row's four arms to a new random sample from the empirical distribution, preserving the total number of treatment and control participants\n",
    "        df_sample['treatment_event'], df_sample['treatment_non_event'], df_sample['control_event'], df_sample['control_non_event'] = zip(*df_sample.apply(sample_row, axis=1))\n",
    "        # calculate the odds ratio for the new sample\n",
    "        odds = naive_odds(df_sample)\n",
    "        if odds is not np.nan:\n",
    "            all_odds_ratios.append(naive_odds(df_sample))        \n",
    "    return sorted(all_odds_ratios)\n",
    "\n"
   ]
  },
  {
   "cell_type": "code",
   "execution_count": 167,
   "metadata": {},
   "outputs": [
    {
     "name": "stdout",
     "output_type": "stream",
     "text": [
      "10000\n"
     ]
    },
    {
     "data": {
      "text/plain": [
       "[<matplotlib.lines.Line2D at 0x1880ea16140>]"
      ]
     },
     "execution_count": 167,
     "metadata": {},
     "output_type": "execute_result"
    },
    {
     "data": {
      "image/png": "[encoded data removed]",
      "text/plain": [
       "<Figure size 640x480 with 1 Axes>"
      ]
     },
     "metadata": {},
     "output_type": "display_data"
    }
   ],
   "source": [
    "# plot the distribution of all_odds_ratios\n",
    "import matplotlib.pyplot as plt\n",
    "all_odds_ratios = total_odds_by_bootstrap(df)\n",
    "print(len(all_odds_ratios))\n",
    "plt.plot(np.linspace(0, 1, len(all_odds_ratios)), sorted(all_odds_ratios))\n"
   ]
  },
  {
   "cell_type": "code",
   "execution_count": 169,
   "metadata": {},
   "outputs": [
    {
     "data": {
      "text/plain": [
       "0.3705070682094949"
      ]
     },
     "execution_count": 169,
     "metadata": {},
     "output_type": "execute_result"
    }
   ],
   "source": [
    "all_odds_ratios[0]"
   ]
  },
  {
   "cell_type": "code",
   "execution_count": 170,
   "metadata": {},
   "outputs": [
    {
     "data": {
      "text/plain": [
       "0.7965178677784396"
      ]
     },
     "execution_count": 170,
     "metadata": {},
     "output_type": "execute_result"
    }
   ],
   "source": [
    "all_odds_ratios[-1]"
   ]
  },
  {
   "cell_type": "code",
   "execution_count": 174,
   "metadata": {},
   "outputs": [
    {
     "data": {
      "text/plain": [
       "0.5787095180351356"
      ]
     },
     "execution_count": 174,
     "metadata": {},
     "output_type": "execute_result"
    }
   ],
   "source": [
    "np.mean(all_odds_ratios)"
   ]
  },
  {
   "cell_type": "code",
   "execution_count": 171,
   "metadata": {},
   "outputs": [
    {
     "data": {
      "text/plain": [
       "0.5766678971575661"
      ]
     },
     "execution_count": 171,
     "metadata": {},
     "output_type": "execute_result"
    }
   ],
   "source": [
    "all_odds_ratios[5_000]"
   ]
  },
  {
   "attachments": {},
   "cell_type": "markdown",
   "metadata": {},
   "source": [
    "This value is exactly equal to taking the odds of the original data"
   ]
  },
  {
   "cell_type": "code",
   "execution_count": 172,
   "metadata": {},
   "outputs": [
    {
     "data": {
      "text/plain": [
       "0.5766678971575661"
      ]
     },
     "execution_count": 172,
     "metadata": {},
     "output_type": "execute_result"
    }
   ],
   "source": [
    "def naive_odds(df):\n",
    "    if df['control_event'].sum() == 0:\n",
    "        return np.nan\n",
    "    return (df['treatment_event'].sum() / df['treatment_non_event'].sum()) / (df['control_event'].sum() / df['control_non_event'].sum())\n",
    "\n",
    "naive_odds(df)"
   ]
  },
  {
   "attachments": {},
   "cell_type": "markdown",
   "metadata": {},
   "source": [
    "So this method doesn't really help us, and I guess that indeed my attempted bootstrap estimated the wrong statistic.. \n"
   ]
  },
  {
   "cell_type": "code",
   "execution_count": 179,
   "metadata": {},
   "outputs": [
    {
     "name": "stdout",
     "output_type": "stream",
     "text": [
      "4995\n",
      "4996\n",
      "4997\n",
      "4998\n",
      "4999\n",
      "5000\n"
     ]
    }
   ],
   "source": [
    "for i, v in enumerate(all_odds_ratios):\n",
    "    if v == naive_odds(df):\n",
    "        print(i)\n"
   ]
  },
  {
   "cell_type": "code",
   "execution_count": 180,
   "metadata": {},
   "outputs": [
    {
     "data": {
      "text/plain": [
       "3609"
      ]
     },
     "execution_count": 180,
     "metadata": {},
     "output_type": "execute_result"
    }
   ],
   "source": [
    "len(set(all_odds_ratios))"
   ]
  },
  {
   "cell_type": "code",
   "execution_count": 181,
   "metadata": {},
   "outputs": [
    {
     "data": {
      "text/plain": [
       "10000"
      ]
     },
     "execution_count": 181,
     "metadata": {},
     "output_type": "execute_result"
    }
   ],
   "source": [
    "len(all_odds_ratios)"
   ]
  },
  {
   "cell_type": "code",
   "execution_count": 182,
   "metadata": {},
   "outputs": [
    {
     "name": "stdout",
     "output_type": "stream",
     "text": [
      "25300\n"
     ]
    }
   ],
   "source": [
    "# calculate the total number of participants in df\n",
    "total_treatment = df['treatment_event'].sum() + df['treatment_non_event'].sum()\n",
    "total_control = df['control_event'].sum() + df['control_non_event'].sum()\n",
    "print(total_treatment + total_control)"
   ]
  },
  {
   "attachments": {},
   "cell_type": "markdown",
   "metadata": {},
   "source": [
    "$RR$ of the general population, \n",
    "$$P(e|t) / P(e|c)$$\n",
    "$P(x|y) = \\sum_i P(x|i,y)P(i|y)$"
   ]
  },
  {
   "cell_type": "code",
   "execution_count": 190,
   "metadata": {},
   "outputs": [],
   "source": [
    "# calculate the relative risk from df by bootstrap, where for each bootstrap sample \n",
    "# we sample from the treatment and control groups of each study separately\n",
    "# and then we calculate relative risk as the ratio between the weighted average of the treatment groups risk and the weighted average of the control groups risk\n",
    "def total_relative_risk_by_bootstrap(df, n_samples=1_000):\n",
    "    all_relative_risks = []\n",
    "    def sample_row(row):\n",
    "        total_treatment = row['treatment_event'] + row['treatment_non_event']\n",
    "        total_control = row['control_event'] + row['control_non_event']\n",
    "        return np.random.multinomial(total_treatment, [row['treatment_event']/total_treatment, row['treatment_non_event']/total_treatment] ).tolist() + np.random.multinomial(total_control , [row['control_event']/total_control, row['control_non_event']/total_control] ).tolist()\n",
    "    def risk_per_arm(df, arm):\n",
    "        return df[arm+'_event'] / (df[arm+'_event'] + df[arm+'_non_event'])\n",
    "    def weight_per_arm(df, arm):\n",
    "        return (df[arm+'_event'] + df[arm+'_non_event']) / (df[arm+'_event'] + df[arm+'_non_event']).sum()\n",
    "    def cumulative_risk_per_arm(df, arm):\n",
    "        return (risk_per_arm(df, arm) * weight_per_arm(df, arm)).sum()\n",
    "    for _ in range(n_samples):\n",
    "        df_sample = df.copy()\n",
    "        # change each row's four arms to a new random sample from the empirical distribution, preserving the total number of treatment and control participants\n",
    "        df_sample['treatment_event'], df_sample['treatment_non_event'], df_sample['control_event'], df_sample['control_non_event'] = zip(*df_sample.apply(sample_row, axis=1))\n",
    "        \n",
    "        # calculate the relative risk for the new sample\n",
    "        relative_risk = cumulative_risk_per_arm(df_sample, 'treatment') / cumulative_risk_per_arm(df_sample, 'control')\n",
    "        all_relative_risks.append(relative_risk)\n",
    "    return sorted(all_relative_risks)"
   ]
  },
  {
   "cell_type": "code",
   "execution_count": 191,
   "metadata": {},
   "outputs": [],
   "source": [
    "rr = total_relative_risk_by_bootstrap(df)"
   ]
  },
  {
   "cell_type": "code",
   "execution_count": 192,
   "metadata": {},
   "outputs": [
    {
     "data": {
      "text/plain": [
       "[<matplotlib.lines.Line2D at 0x1880b7d0c40>]"
      ]
     },
     "execution_count": 192,
     "metadata": {},
     "output_type": "execute_result"
    },
    {
     "data": {
      "image/png": "[encoded data removed]",
      "text/plain": [
       "<Figure size 640x480 with 1 Axes>"
      ]
     },
     "metadata": {},
     "output_type": "display_data"
    }
   ],
   "source": [
    "plt.plot(np.linspace(0, 1, len(rr)), sorted(rr))"
   ]
  },
  {
   "cell_type": "code",
   "execution_count": 193,
   "metadata": {},
   "outputs": [
    {
     "data": {
      "text/plain": [
       "0.5846048067151092"
      ]
     },
     "execution_count": 193,
     "metadata": {},
     "output_type": "execute_result"
    }
   ],
   "source": [
    "rr[len(rr)//2]"
   ]
  },
  {
   "cell_type": "code",
   "execution_count": 194,
   "metadata": {},
   "outputs": [
    {
     "name": "stdout",
     "output_type": "stream",
     "text": [
      "0.48629244464035914 0.6944464803225254\n"
     ]
    }
   ],
   "source": [
    "# print the 95% confidence interval\n",
    "print(rr[25], rr[975])"
   ]
  },
  {
   "attachments": {},
   "cell_type": "markdown",
   "metadata": {},
   "source": [
    "TODO: compute the rr per each study\n"
   ]
  }
 ],
 "metadata": {
  "kernelspec": {
   "display_name": "Python 3",
   "language": "python",
   "name": "python3"
  },
  "language_info": {
   "codemirror_mode": {
    "name": "ipython",
    "version": 3
   },
   "file_extension": ".py",
   "mimetype": "text/x-python",
   "name": "python",
   "nbconvert_exporter": "python",
   "pygments_lexer": "ipython3",
   "version": "3.10.7"
  },
  "orig_nbformat": 4
 },
 "nbformat": 4,
 "nbformat_minor": 2
}
