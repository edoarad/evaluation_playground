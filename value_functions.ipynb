{
 "cells": [
  {
   "cell_type": "code",
   "execution_count": 7,
   "metadata": {},
   "outputs": [],
   "source": [
    "import numpy as np"
   ]
  },
  {
   "cell_type": "code",
   "execution_count": 9,
   "metadata": {},
   "outputs": [
    {
     "data": {
      "text/plain": [
       "0.999896315728952"
      ]
     },
     "execution_count": 9,
     "metadata": {},
     "output_type": "execute_result"
    }
   ],
   "source": [
    "\n",
    "class UtilityFunction:\n",
    "    def __init__(self, parameters) -> None:\n",
    "        self.parameters = parameters\n",
    "\n",
    "    def __call__(self, *args, **kwds):\n",
    "        raise NotImplementedError\n",
    "\n",
    "class IsoelasticUtility(UtilityFunction):\n",
    "    def __init__(self, eta) -> None:\n",
    "        super().__init__({\"eta\": eta})\n",
    "    \n",
    "    def __call__(self, consumption) -> float:\n",
    "        ate = 1 - self.parameters['eta']\n",
    "        if ate == 0:\n",
    "            return np.log(consumption)\n",
    "\n",
    "        return (consumption**ate - 1) / ate\n",
    "\n",
    "\n",
    "high_iso = IsoelasticUtility(eta=1)\n",
    "high_iso(2.718)"
   ]
  },
  {
   "cell_type": "code",
   "execution_count": 18,
   "metadata": {},
   "outputs": [
    {
     "data": {
      "text/plain": [
       "115.12925464970206"
      ]
     },
     "execution_count": 18,
     "metadata": {},
     "output_type": "execute_result"
    }
   ],
   "source": [
    "def total_utility(consumption_function, utility_function: UtilityFunction, discount_function, num_periods=100):\n",
    "    return sum(utility_function(consumption_function(period))*discount_function(period) for period in range(num_periods))\n",
    "\n",
    "const_consumption = lambda period: 10\n",
    "geometric_discount = lambda period: 0.98**period\n",
    "\n",
    "total_utility(const_consumption, high_iso, geometric_discount, num_periods=1000)"
   ]
  },
  {
   "cell_type": "code",
   "execution_count": 12,
   "metadata": {},
   "outputs": [
    {
     "data": {
      "text/plain": [
       "2.302585092994046"
      ]
     },
     "execution_count": 12,
     "metadata": {},
     "output_type": "execute_result"
    }
   ],
   "source": [
    "high_iso(10)"
   ]
  },
  {
   "cell_type": "code",
   "execution_count": 19,
   "metadata": {},
   "outputs": [
    {
     "data": {
      "text/plain": [
       "115.12925464970219"
      ]
     },
     "execution_count": 19,
     "metadata": {},
     "output_type": "execute_result"
    }
   ],
   "source": [
    "high_iso(10) * (1 / (1 - 0.98))"
   ]
  },
  {
   "cell_type": "code",
   "execution_count": 20,
   "metadata": {},
   "outputs": [
    {
     "data": {
      "text/plain": [
       "7.483314773547883"
      ]
     },
     "execution_count": 20,
     "metadata": {},
     "output_type": "execute_result"
    }
   ],
   "source": [
    "np.sqrt(8*7)"
   ]
  },
  {
   "cell_type": "code",
   "execution_count": null,
   "metadata": {},
   "outputs": [],
   "source": []
  }
 ],
 "metadata": {
  "kernelspec": {
   "display_name": "Python 3.10.7 64-bit",
   "language": "python",
   "name": "python3"
  },
  "language_info": {
   "codemirror_mode": {
    "name": "ipython",
    "version": 3
   },
   "file_extension": ".py",
   "mimetype": "text/x-python",
   "name": "python",
   "nbconvert_exporter": "python",
   "pygments_lexer": "ipython3",
   "version": "3.10.7"
  },
  "orig_nbformat": 4,
  "vscode": {
   "interpreter": {
    "hash": "c0c366e9ad4d5e9ede24a0d26d034057c7759eedbaa5a1e1079943a3ffd8ca85"
   }
  }
 },
 "nbformat": 4,
 "nbformat_minor": 2
}
