{
 "cells": [
  {
   "attachments": {},
   "cell_type": "markdown",
   "metadata": {},
   "source": [
    "# lognormal distributions for cost-effectiveness analysis\n",
    "1. \"everything is lognormal\".\n",
    "2. for $X,Y$ independent, $E[XY] = E[X]E[Y]$ \n",
    "3. for $X,Y$ independent, $Var[X+Y] = Var[X] + Var[Y]$.\n",
    "4. we can think of a lognormal distribution with parameters $\\mu, \\sigma^2$ as a variable centered around $e^{\\mu}$ with a *multiplicative* spread of $e^{\\sigma}$\n",
    "4. I expect this is how most people implicitly think of lognormal distributions when they make estimations.\n",
    "5. for a lognormally distributed $X$, $E[X] = e^{\\mu + \\sigma^2/2}$. In particular, this is different from the median of $X$ which is $e^{\\mu}$ (its \"center\") \n",
    "6. generally, $E[\\frac{1}{X}] \\neq \\frac{1}{E[X]}$\n",
    "7. in particular, even for $X,Y$ independent, $E[\\frac{X}{Y}] \\neq \\frac{E[X]}{E[Y]}$ generally\n",
    "8. for $X\\sim \\text{Lognormal}(\\mu_X, \\sigma^2_X)$, it's reciprocal is $\\frac{1}{X}\\sim \\text{Lognormal}(-\\mu_X, \\sigma^2_X)$\n",
    "9. for $Y\\sim \\text{Lognormal}(\\mu_Y, \\sigma^2_Y)$, $XY$ is lognormally distributed with parameters $\\mu_X + \\mu_Y$ and (if they are independent) $\\sigma^2_X + \\sigma^2_Y$\n",
    "10. in many cases, cost-effectiveness estimates are of the form $\\frac{\\prod X_i}{\\prod Y_j}$, where all variables are assumed to be independently lognormally distributed (maybe there are more multiplicative factors). This can be simplified to a log of a sum of normal distributions. \n",
    "11. it's expected value is $E[\\frac{\\prod X_i}{\\prod Y_j}] = e^{\\sum \\mu_{X_i} - \\sum \\mu_{Y_j} + \\frac{\\sum \\sigma^2_{X_i} + \\sum \\sigma^2_{Y_j}}{2}}$ \n"
   ]
  },
  {
   "attachments": {},
   "cell_type": "markdown",
   "metadata": {},
   "source": []
  }
 ],
 "metadata": {
  "kernelspec": {
   "display_name": "Python 3",
   "language": "python",
   "name": "python3"
  },
  "language_info": {
   "name": "python",
   "version": "3.10.11"
  },
  "orig_nbformat": 4
 },
 "nbformat": 4,
 "nbformat_minor": 2
}
