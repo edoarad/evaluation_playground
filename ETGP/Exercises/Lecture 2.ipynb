{
 "cells": [
  {
   "cell_type": "markdown",
   "metadata": {},
   "source": [
    "# Q1\n",
    "## 1.a\n",
    "We get $\\dot{K}_t=sY_t=s(AK_t)^a (BL)^{1-a}$, which is an ordinary differential equation. The general form is \n",
    "\n",
    "$$\\dot{f}=af^\\alpha$$\n",
    "\n",
    "which we can solve by separation of variables:\n",
    "$$\n",
    "\\begin{align*}\n",
    "\\frac{df}{dt}&=af^\\alpha\\\\\n",
    "\\int \\frac{df}{dt}\\frac{1}{f^\\alpha} dt&=\\int a dt\\\\\n",
    "\\int f^{-\\alpha} df&=at+c\\\\\n",
    "\\frac{f^{1-\\alpha}}{1-\\alpha}&=at+c\\\\\n",
    "f&=\\big((1-\\alpha)(at+c)\\big)^{\\frac{1}{1-\\alpha}}\n",
    "\\end{align*}\n",
    "$$\n",
    "for any constant $c$.\n",
    "\n",
    "We can now solve for $K_t$:\n",
    "$$\n",
    "K_t=\\big((1-a)((sA^a(BL)^{1-a})t+c)\\big)^{\\frac{1}{1-a}}\n",
    "$$\n",
    "\n",
    "Substituting it in, we get\n",
    "$$\n",
    "Y_t=A^a\\big((1-a)((sA^a(BL)^{1-a})t+c)\\big)^{\\frac{a}{1-a}}(BL)^{1-a}\n",
    "$$"
   ]
  },
  {
   "cell_type": "markdown",
   "metadata": {},
   "source": [
    "## 1.b\n",
    "In the AK model, where we have $Y=AK$, if we'd had the law of motion $\\dot{K} = sY - dK$ we could write it as $\\dot{K}=(s-\\frac{d}{A})Y$ and we'd see the same model. So we can have this change of variables $s' = s-\\frac{d}{A}$ and $d'=0$ to see the same results. Nothing matters. Life is meaningless. We are all going to die. AGI is inevitable."
   ]
  },
  {
   "cell_type": "markdown",
   "metadata": {},
   "source": [
    "# Q2\n",
    "By setting $\\bar{A}=a^\\frac{1}{\\rho}A$ and $\\bar{B}=(1-a)^\\frac{1}{\\rho}B$, we get $Y=\\big((\\bar{A}K)^\\rho+(\\bar{B}L)^\\rho\\big)^\\frac{1}{\\rho}$. "
   ]
  },
  {
   "cell_type": "markdown",
   "metadata": {},
   "source": [
    "Now, if we take the limit of the above for $\\rho \\rightarrow 0$, we get a problem because $a^\\frac{1}{\\rho}$ goes to infinity. This then will only make sense for $a\\in\\{0,1\\}$ for which will either get the $AK$ or $BL$ production function."
   ]
  },
  {
   "cell_type": "markdown",
   "metadata": {},
   "source": []
  }
 ],
 "metadata": {
  "kernelspec": {
   "display_name": "Python 3",
   "language": "python",
   "name": "python3"
  },
  "language_info": {
   "codemirror_mode": {
    "name": "ipython",
    "version": 3
   },
   "file_extension": ".py",
   "mimetype": "text/x-python",
   "name": "python",
   "nbconvert_exporter": "python",
   "pygments_lexer": "ipython3",
   "version": "3.10.7"
  },
  "orig_nbformat": 4
 },
 "nbformat": 4,
 "nbformat_minor": 2
}
