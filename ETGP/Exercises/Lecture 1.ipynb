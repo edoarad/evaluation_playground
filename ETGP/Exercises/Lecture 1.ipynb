{
 "cells": [
  {
   "cell_type": "markdown",
   "metadata": {},
   "source": [
    "# Question 1\n",
    "We can write the Euler equations as\n",
    "$$\n",
    "    u'(c_0)=e^{rt}e^{-\\delta t}u'(c_t).\n",
    "$$\n",
    "So, under the assumption that $c_t=t$, we can get\n",
    "$$\n",
    "    u'(t)=e^{(\\delta-r)t}u'(0).\n",
    "$$\n",
    "Calculating $u(t)$ using the integral of the derivative, we get\n",
    "$$\n",
    "\\begin{align*}\n",
    "    u(t) &= u(0)+\\int_0^t u'(s)ds =u(0)+\\int_0^t e^{(\\delta-r)s}u'(0)ds\\\\\n",
    "    &=u(0)+\\frac{1}{r-\\delta}-\\frac{1}{r-\\delta}e^{(\\delta-r)t}u'(0)\\\\\n",
    "\\end{align*}\n",
    "$$  \n",
    "so we get a solution for each chosen value of $u(0),u'(0)>0$ which has the form \n",
    "$$\n",
    "    u(t)=a+be^{(\\delta-r)t}.\n",
    "$$"
   ]
  },
  {
   "cell_type": "markdown",
   "metadata": {},
   "source": [
    "# Q 2\n",
    "First, note that the capital share $\\frac{K\\frac{\\partial F(AK,BL)}{\\partial K}}{Y}$ can also be computed as:\n",
    "$$\n",
    "\\frac{AK}{F(AK,BK)}\\frac{\\partial F(AK,BL)}{\\partial AK}.\n",
    "$$\n",
    "So we've abstracted away all the unecessary econ, and can do pure and fun math! We need to find a function $f(x,y)$ over $\\mathbb{R}^2_{\\ge 0}$ such that:\n",
    "\n",
    "1. $f$ is homogeneous of degree 1.\n",
    "1. $f$ is continuously differentiable on $\\mathbb{R}^2_{>0}$.\n",
    "1. $f$ is weakly increasing on both arguments.\n",
    "1. $f(0,y)=f(x,0)=0$ for all $x,y$.\n",
    "1. There are some $x_0,y_0>0$ such that $f(x_0,y_0)>0$ and $\\frac{x_0}{f(x_0,y_0)}\\frac{\\partial f(x_0,y_0)}{\\partial x}=0$.\n",
    "\n",
    "That last point is equivalent to $\\frac{\\partial f(x_0,y_0)}{\\partial x}=0$.\n",
    "\n",
    "I can't find a function 😢\n"
   ]
  },
  {
   "cell_type": "markdown",
   "metadata": {},
   "source": [
    "# Q 3\n",
    "\n",
    "Factorizing $\\frac{K}{L} = \\frac{K}{Y}\\frac{Y}{L}$, we see that it is a multiplication of two functions that grow at a constant rate, so it must itself grow at a constant rate.  "
   ]
  },
  {
   "cell_type": "markdown",
   "metadata": {},
   "source": []
  }
 ],
 "metadata": {
  "language_info": {
   "name": "python"
  },
  "orig_nbformat": 4
 },
 "nbformat": 4,
 "nbformat_minor": 2
}
