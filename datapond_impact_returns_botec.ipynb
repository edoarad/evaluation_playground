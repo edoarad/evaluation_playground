{
 "cells": [
  {
   "attachments": {},
   "cell_type": "markdown",
   "metadata": {},
   "source": [
    "Following [Total Portfolio Project](https://www.total-portfolio.org/)'s Impact Returns model, in this notebook we analyse the impact-adjusted returns for an investment in [DataPond](https://data-pond.co/) (DP), a seed/pre-seed stage startup working on water quality monitoring.\n",
    "\n",
    "Previous work: An [impact assesment report](https://docs.google.com/document/d/1AVwksd7_-d-a-bB1a4udAPLJI9XiOvPFieFOI_ZwaRQ/edit), with an accompanying back-of-the-envelope estimates [here](https://drive.google.com/file/d/1f0FmH8aCoTb5Odk9pg-bVOpnYlAjiCam/view?usp=sharing), but with serious methodological issues. \n",
    "\n",
    "*Disclaimer - while I try to be objective, the company belongs to my father.*"
   ]
  },
  {
   "attachments": {},
   "cell_type": "markdown",
   "metadata": {},
   "source": [
    "# Context\n",
    "## DataPond\n",
    "* DataPond is an impact startup in the seed funding stage, they have developed a technology to monitor water quality cheaply and scalably. \n",
    "* Their primary innovation is the use of cheap ($10s) sensors to algorithmically infer the existence of biological contamination.\n",
    "* They are planning on working in India, where they have solid connections and expertise, and in concordance with the national Jal Jeevan Mission to deliver piped water to all households. \n",
    "  * However, investor preferences and the operational challenges involved in working with the Indian public sector might shift their efforts to the US market.\n",
    "## The problem\n",
    "* Water-borne diseases are a huge problem worldwide. \n",
    "  * About 2 billion people live without access to safe drinking water.\n",
    "  * Diarrheal diseases alone are responsible for more than a million deaths each year, a third of which are children under 5.\n",
    "* Current data collection of water quality is severely lacking\n",
    "  * Testing for biological contamination directly is complicated and expensive, so it’s used sparingly (even in developing countries).\n",
    "  * Water treatment and infrastructure operations operate while practically ignorant of water quality status and are thus considerably less effective.\n",
    "* Dealing with an identified water contamination is relatively simple.\n",
    "  * Methods such as chlorination and boiling may be used at the household level if alerted to the contamination. \n",
    "  * Installing water treatment facilities, navigating people to non-contaminated sources, and treating the upstream contamination source directly might be even more promising.\n",
    "* Recently, GiveWell [evaluated water-treatment interventions](https://www.givewell.org/international/technical/programs/water-quality-interventions) (such as chlorination tablets), and it seems highly promising. They are focused on interventions that add chlorine to water (say, by installing water dispensers or in-line chlorination), which generally seems not to work well in India due to poor adherence.\n"
   ]
  },
  {
   "attachments": {},
   "cell_type": "markdown",
   "metadata": {},
   "source": [
    "# Magnitude\n",
    "\n",
    "This we evaluate in 3 stages: \n",
    "1. Potential Gross Impact (The total future impact of the main successful scenarios)\n",
    "2. Expected Gross Impact  (Taking the last step, and accounting for probabilities)\n",
    "3. Enterprise Effectiveness (Taking the last step, and dividing by the total cost)"
   ]
  },
  {
   "cell_type": "code",
   "execution_count": 1,
   "metadata": {},
   "outputs": [
    {
     "name": "stdout",
     "output_type": "stream",
     "text": [
      "Requirement already satisfied: squigglepy in c:\\users\\edoar\\appdata\\local\\programs\\python\\python310\\lib\\site-packages (0.22)"
     ]
    },
    {
     "name": "stderr",
     "output_type": "stream",
     "text": [
      "\n",
      "[notice] A new release of pip is available: 23.0.1 -> 23.1.2\n",
      "[notice] To update, run: python.exe -m pip install --upgrade pip\n"
     ]
    },
    {
     "name": "stdout",
     "output_type": "stream",
     "text": [
      "\n",
      "Requirement already satisfied: pandas in c:\\users\\edoar\\appdata\\local\\programs\\python\\python310\\lib\\site-packages (from squigglepy) (1.5.3)\n",
      "Requirement already satisfied: msgspec in c:\\users\\edoar\\appdata\\local\\programs\\python\\python310\\lib\\site-packages (from squigglepy) (0.13.1)\n",
      "Requirement already satisfied: numpy in c:\\users\\edoar\\appdata\\local\\programs\\python\\python310\\lib\\site-packages (from squigglepy) (1.23.5)\n",
      "Requirement already satisfied: scipy in c:\\users\\edoar\\appdata\\local\\programs\\python\\python310\\lib\\site-packages (from squigglepy) (1.10.1)\n",
      "Requirement already satisfied: tqdm in c:\\users\\edoar\\appdata\\local\\programs\\python\\python310\\lib\\site-packages (from squigglepy) (4.64.1)\n",
      "Requirement already satisfied: pathos in c:\\users\\edoar\\appdata\\local\\programs\\python\\python310\\lib\\site-packages (from squigglepy) (0.3.0)\n",
      "Requirement already satisfied: pytz>=2020.1 in c:\\users\\edoar\\appdata\\local\\programs\\python\\python310\\lib\\site-packages (from pandas->squigglepy) (2022.7.1)\n",
      "Requirement already satisfied: python-dateutil>=2.8.1 in c:\\users\\edoar\\appdata\\roaming\\python\\python310\\site-packages (from pandas->squigglepy) (2.8.2)\n",
      "Requirement already satisfied: ppft>=1.7.6.6 in c:\\users\\edoar\\appdata\\local\\programs\\python\\python310\\lib\\site-packages (from pathos->squigglepy) (1.7.6.6)\n",
      "Requirement already satisfied: dill>=0.3.6 in c:\\users\\edoar\\appdata\\local\\programs\\python\\python310\\lib\\site-packages (from pathos->squigglepy) (0.3.6)\n",
      "Requirement already satisfied: pox>=0.3.2 in c:\\users\\edoar\\appdata\\local\\programs\\python\\python310\\lib\\site-packages (from pathos->squigglepy) (0.3.2)\n",
      "Requirement already satisfied: multiprocess>=0.70.14 in c:\\users\\edoar\\appdata\\local\\programs\\python\\python310\\lib\\site-packages (from pathos->squigglepy) (0.70.14)\n",
      "Requirement already satisfied: colorama in c:\\users\\edoar\\appdata\\roaming\\python\\python310\\site-packages (from tqdm->squigglepy) (0.4.6)\n",
      "Requirement already satisfied: six>=1.5 in c:\\users\\edoar\\appdata\\roaming\\python\\python310\\site-packages (from python-dateutil>=2.8.1->pandas->squigglepy) (1.16.0)\n"
     ]
    }
   ],
   "source": [
    "!pip install squigglepy"
   ]
  },
  {
   "attachments": {},
   "cell_type": "markdown",
   "metadata": {},
   "source": [
    "## Potential Gross Impact\n",
    "Our main successful scenario is a global widespread use, and a 100% precision and recall. We also then assume that both locals and water suppliers have perfect understanding of where there are biological contaminations and how severe these are. The whole scenario is unrealistic, so this would be discounted.\n",
    "\n"
   ]
  },
  {
   "cell_type": "code",
   "execution_count": null,
   "metadata": {},
   "outputs": [],
   "source": [
    "import squigglepy as sq\n",
    "import numpy as np\n",
    "\n",
    "# estimate the total problem size from water-borne diseases globaly\n",
    "# using Our World in Data diarrhoeal disease data (https://ourworldindata.org/diarrheal-diseases)\n",
    "# we assume that the number of deaths from diarrhoeal diseases is a good proxy for the total number of deaths from water-borne diseases\n",
    "# we only consider deaths of people under 70 years old\n",
    "# we assume that yearly deaths continues to decline linearly\n",
    "total_yearly_deaths_2019_under_70 = 900_000\n",
    "total_yearly_deaths_1990_under_70 = 2_300_000\n",
    "def total_yearly_deaths_under_70(year):\n",
    "    return max(0, total_yearly_deaths_1990_under_70 + (total_yearly_deaths_2019_under_70 - total_yearly_deaths_1990_under_70) * (year - 1990) / (2019 - 1990))\n",
    "\n"
   ]
  }
 ],
 "metadata": {
  "kernelspec": {
   "display_name": "Python 3",
   "language": "python",
   "name": "python3"
  },
  "language_info": {
   "codemirror_mode": {
    "name": "ipython",
    "version": 3
   },
   "file_extension": ".py",
   "mimetype": "text/x-python",
   "name": "python",
   "nbconvert_exporter": "python",
   "pygments_lexer": "ipython3",
   "version": "3.10.7"
  },
  "orig_nbformat": 4
 },
 "nbformat": 4,
 "nbformat_minor": 2
}
