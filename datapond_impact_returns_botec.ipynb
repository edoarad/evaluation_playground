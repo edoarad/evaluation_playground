{
 "cells": [
  {
   "attachments": {},
   "cell_type": "markdown",
   "metadata": {},
   "source": [
    "Following [Total Portfolio Project](https://www.total-portfolio.org/)'s Impact Returns model, in this notebook we analyse the impact-adjusted returns for an investment in [DataPond](https://data-pond.co/) (DP), a seed/pre-seed stage startup working on water quality monitoring.\n",
    "\n",
    "Previous work: An [impact assesment report](https://docs.google.com/document/d/1AVwksd7_-d-a-bB1a4udAPLJI9XiOvPFieFOI_ZwaRQ/edit), with an accompanying back-of-the-envelope estimates [here](https://drive.google.com/file/d/1f0FmH8aCoTb5Odk9pg-bVOpnYlAjiCam/view?usp=sharing), but with serious methodological issues. \n",
    "\n",
    "*Disclaimer - while I try to be objective, the company belongs to my father.*"
   ]
  },
  {
   "attachments": {},
   "cell_type": "markdown",
   "metadata": {},
   "source": [
    "# Context\n",
    "## DataPond\n",
    "* DataPond is an impact startup in the seed funding stage, they have developed a technology to monitor water quality cheaply and scalably. \n",
    "* Their primary innovation is the use of cheap ($10s) sensors to algorithmically infer the existence of biological contamination.\n",
    "* They are planning on working in India, where they have solid connections and expertise, and in concordance with the national Jal Jeevan Mission to deliver piped water to all households. \n",
    "  * However, investor preferences and the operational challenges involved in working with the Indian public sector might shift their efforts to the US market.\n",
    "## The problem\n",
    "* Water-borne diseases are a huge problem worldwide. \n",
    "  * About 2 billion people live without access to safe drinking water.\n",
    "  * Diarrheal diseases alone are responsible for more than a million deaths each year, a third of which are children under 5.\n",
    "* Current data collection of water quality is severely lacking\n",
    "  * Testing for biological contamination directly is complicated and expensive, so it’s used sparingly (even in developing countries).\n",
    "  * Water treatment and infrastructure operations operate while practically ignorant of water quality status and are thus considerably less effective.\n",
    "* Dealing with an identified water contamination is relatively simple.\n",
    "  * Methods such as chlorination and boiling may be used at the household level if alerted to the contamination. \n",
    "  * Installing water treatment facilities, navigating people to non-contaminated sources, and treating the upstream contamination source directly might be even more promising.\n",
    "* Recently, GiveWell [evaluated water-treatment interventions](https://www.givewell.org/international/technical/programs/water-quality-interventions) (such as chlorination tablets), and it seems highly promising. They are focused on interventions that add chlorine to water (say, by installing water dispensers or in-line chlorination), which generally seems not to work well in India due to poor adherence.\n"
   ]
  },
  {
   "attachments": {},
   "cell_type": "markdown",
   "metadata": {},
   "source": [
    "# Magnitude\n",
    "\n",
    "This we evaluate in 3 stages: \n",
    "1. Potential Gross Impact (The total future impact of the main successful scenarios)\n",
    "2. Expected Gross Impact  (Taking the last step, and accounting for probabilities)\n",
    "3. Enterprise Effectiveness (Taking the last step, and dividing by the total cost)"
   ]
  },
  {
   "cell_type": "code",
   "execution_count": 26,
   "metadata": {},
   "outputs": [
    {
     "name": "stdout",
     "output_type": "stream",
     "text": [
      "Requirement already satisfied: squigglepy in c:\\users\\edo\\appdata\\local\\packages\\pythonsoftwarefoundation.python.3.10_qbz5n2kfra8p0\\localcache\\local-packages\\python310\\site-packages (0.25)\n",
      "Requirement already satisfied: msgspec in c:\\users\\edo\\appdata\\local\\packages\\pythonsoftwarefoundation.python.3.10_qbz5n2kfra8p0\\localcache\\local-packages\\python310\\site-packages (from squigglepy) (0.15.1)\n",
      "Requirement already satisfied: numpy in c:\\users\\edo\\appdata\\local\\packages\\pythonsoftwarefoundation.python.3.10_qbz5n2kfra8p0\\localcache\\local-packages\\python310\\site-packages (from squigglepy) (1.24.2)\n",
      "Requirement already satisfied: pandas in c:\\users\\edo\\appdata\\local\\packages\\pythonsoftwarefoundation.python.3.10_qbz5n2kfra8p0\\localcache\\local-packages\\python310\\site-packages (from squigglepy) (2.0.0)\n",
      "Requirement already satisfied: pathos in c:\\users\\edo\\appdata\\local\\packages\\pythonsoftwarefoundation.python.3.10_qbz5n2kfra8p0\\localcache\\local-packages\\python310\\site-packages (from squigglepy) (0.3.0)\n",
      "Requirement already satisfied: scipy in c:\\users\\edo\\appdata\\local\\packages\\pythonsoftwarefoundation.python.3.10_qbz5n2kfra8p0\\localcache\\local-packages\\python310\\site-packages (from squigglepy) (1.10.1)\n",
      "Requirement already satisfied: tqdm in c:\\users\\edo\\appdata\\local\\packages\\pythonsoftwarefoundation.python.3.10_qbz5n2kfra8p0\\localcache\\local-packages\\python310\\site-packages (from squigglepy) (4.65.0)\n",
      "Requirement already satisfied: python-dateutil>=2.8.2 in c:\\users\\edo\\appdata\\local\\packages\\pythonsoftwarefoundation.python.3.10_qbz5n2kfra8p0\\localcache\\local-packages\\python310\\site-packages (from pandas->squigglepy) (2.8.2)\n",
      "Requirement already satisfied: pytz>=2020.1 in c:\\users\\edo\\appdata\\local\\packages\\pythonsoftwarefoundation.python.3.10_qbz5n2kfra8p0\\localcache\\local-packages\\python310\\site-packages (from pandas->squigglepy) (2023.3)\n",
      "Requirement already satisfied: tzdata>=2022.1 in c:\\users\\edo\\appdata\\local\\packages\\pythonsoftwarefoundation.python.3.10_qbz5n2kfra8p0\\localcache\\local-packages\\python310\\site-packages (from pandas->squigglepy) (2023.3)\n",
      "Requirement already satisfied: ppft>=1.7.6.6 in c:\\users\\edo\\appdata\\local\\packages\\pythonsoftwarefoundation.python.3.10_qbz5n2kfra8p0\\localcache\\local-packages\\python310\\site-packages (from pathos->squigglepy) (1.7.6.6)\n",
      "Requirement already satisfied: dill>=0.3.6 in c:\\users\\edo\\appdata\\local\\packages\\pythonsoftwarefoundation.python.3.10_qbz5n2kfra8p0\\localcache\\local-packages\\python310\\site-packages (from pathos->squigglepy) (0.3.6)\n",
      "Requirement already satisfied: pox>=0.3.2 in c:\\users\\edo\\appdata\\local\\packages\\pythonsoftwarefoundation.python.3.10_qbz5n2kfra8p0\\localcache\\local-packages\\python310\\site-packages (from pathos->squigglepy) (0.3.2)\n",
      "Requirement already satisfied: multiprocess>=0.70.14 in c:\\users\\edo\\appdata\\local\\packages\\pythonsoftwarefoundation.python.3.10_qbz5n2kfra8p0\\localcache\\local-packages\\python310\\site-packages (from pathos->squigglepy) (0.70.14)\n",
      "Requirement already satisfied: colorama in c:\\users\\edo\\appdata\\local\\packages\\pythonsoftwarefoundation.python.3.10_qbz5n2kfra8p0\\localcache\\local-packages\\python310\\site-packages (from tqdm->squigglepy) (0.4.6)\n",
      "Requirement already satisfied: six>=1.5 in c:\\users\\edo\\appdata\\local\\packages\\pythonsoftwarefoundation.python.3.10_qbz5n2kfra8p0\\localcache\\local-packages\\python310\\site-packages (from python-dateutil>=2.8.2->pandas->squigglepy) (1.16.0)\n",
      "Note: you may need to restart the kernel to use updated packages.\n"
     ]
    }
   ],
   "source": [
    "%pip install squigglepy"
   ]
  },
  {
   "attachments": {},
   "cell_type": "markdown",
   "metadata": {},
   "source": [
    "## Potential Gross Impact\n",
    "Our main successful scenario is a global widespread use, and a 100% precision and recall. We also then assume that both locals and water suppliers have perfect understanding of where there are biological contaminations and how severe these are. The whole scenario is unrealistic, so this would be discounted.\n",
    "\n"
   ]
  },
  {
   "cell_type": "code",
   "execution_count": 3,
   "metadata": {},
   "outputs": [
    {
     "name": "stdout",
     "output_type": "stream",
     "text": [
      "Total deaths from water-borne diseases from 2025 up to 2060: 4152781\n"
     ]
    },
    {
     "data": {
      "text/plain": [
       "[<matplotlib.lines.Line2D at 0x1ae42f844c0>]"
      ]
     },
     "execution_count": 3,
     "metadata": {},
     "output_type": "execute_result"
    },
    {
     "data": {
      "image/png": "[encoded data removed]",
      "text/plain": [
       "<Figure size 640x480 with 1 Axes>"
      ]
     },
     "metadata": {},
     "output_type": "display_data"
    }
   ],
   "source": [
    "import squigglepy as sq\n",
    "from matplotlib import pyplot as plt\n",
    "import numpy as np\n",
    "\n",
    "# estimate the total problem size from water-borne diseases globaly\n",
    "# using Our World in Data diarrhoeal disease data (https://ourworldindata.org/diarrheal-diseases)\n",
    "# we assume that the number of deaths from diarrhoeal diseases is a good proxy for the total number of deaths from water-borne diseases\n",
    "# we only consider deaths of people under 70 years old\n",
    "# we assume that yearly deaths continues to decline linearly (even though the decline seems to be mostly of death under 5)\n",
    "total_yearly_deaths_2019_under_70 = 900_000\n",
    "total_yearly_deaths_1990_under_70 = 2_300_000\n",
    "def total_yearly_deaths_under_70(year):\n",
    "    return max(0, total_yearly_deaths_1990_under_70 + (total_yearly_deaths_2019_under_70 - total_yearly_deaths_1990_under_70) * (year - 1990) / (2019 - 1990))\n",
    "\n",
    "def discount(year, current_year=2023):\n",
    "    discount_rate = 0.001 # 0.1% discount rate, accounting for unknown events (as used by CEARCH: https://exploratory-altruism.org/research/#research-methodology)\n",
    "    return (1 - discount_rate) ** (year - current_year)\n",
    "\n",
    "def total_deaths_up_to(year, current_year=2023):\n",
    "    return sum(total_yearly_deaths_under_70(y) * discount(y, current_year) for y in range(current_year, year + 1))\n",
    "\n",
    "print(f\"Total deaths from water-borne diseases from 2025 up to 2060: {total_deaths_up_to(2060, 2025):.0f}\")\n",
    "\n",
    "# plot the total deaths from water-borne diseases from 2025 up to 2060\n",
    "years = np.arange(2025, 2061)\n",
    "deaths = [total_yearly_deaths_under_70(year)*discount(year, current_year=2023) for year in years]\n",
    "total_deaths = [sum(deaths[:i]) for i in range(len(deaths))]\n",
    "plt.plot(years, total_deaths)\n"
   ]
  },
  {
   "attachments": {},
   "cell_type": "markdown",
   "metadata": {},
   "source": [
    "*I don't really expect deaths to continue to decline linearly, unfortunately. So this could be improved, and uncertainty can be modeled in.*\n",
    "\n",
    "This also leads us to a naive upper-bound on lives saved of about 5 million people."
   ]
  },
  {
   "attachments": {},
   "cell_type": "markdown",
   "metadata": {},
   "source": [
    "How would real-time information about the existence of biological contaminations change this? Some proposed mechanisms:\n",
    "1. Local water suppliers could find and address contaminations. \n",
    "2. Infrastructure projects could be prioritized better.\n",
    "3. Households could choose different water sources (if possible) and use water-treatment that may be available but expensive/impractical for everyday use. "
   ]
  },
  {
   "attachments": {},
   "cell_type": "markdown",
   "metadata": {},
   "source": [
    "I don't know which of these are most influential, but the last is easiest to estimate. That could be considered a lower bound on the impact. We have a **very** rough estimate of about one in 25 people saved from water-borne related death (a small but non-neglegible minority of people would actually take action which would actually protect them from sickness). \n",
    "\n",
    "We also don't take into account any additional benefits other than preventing deaths (say, QALY gains or increased consumption)."
   ]
  },
  {
   "cell_type": "code",
   "execution_count": 4,
   "metadata": {},
   "outputs": [],
   "source": [
    "# a conservative rough estimate of 1 in 25 people protected, with high variance.\n",
    "# Median of about 1/50, 90% CI of about [1/6000, 1/7]. \n",
    "death_averted_probability = sq.beta(0.5, 12) "
   ]
  },
  {
   "cell_type": "code",
   "execution_count": 12,
   "metadata": {},
   "outputs": [
    {
     "name": "stdout",
     "output_type": "stream",
     "text": [
      "Total deaths averted from water-borne diseases from 2025 up to 2060: 159983\n"
     ]
    },
    {
     "data": {
      "text/plain": [
       "[<matplotlib.lines.Line2D at 0x1ae45142440>]"
      ]
     },
     "execution_count": 12,
     "metadata": {},
     "output_type": "execute_result"
    },
    {
     "data": {
      "image/png": "[encoded data removed]",
      "text/plain": [
       "<Figure size 640x480 with 1 Axes>"
      ]
     },
     "metadata": {},
     "output_type": "display_data"
    }
   ],
   "source": [
    "# the effect is linear, so we can just multiply the total deaths by the risk ratio to get the total deaths averted\n",
    "deaths_averted_yearly = [death * sq.sample(death_averted_probability) for death in deaths] # this isn't accurate, the uncertainty around death_averted_probability is highly correlated between years\n",
    "print(f\"Total deaths averted from water-borne diseases from 2025 up to 2060: {sum(deaths_averted_yearly):.0f}\")\n",
    "total_deaths_averted = [sum(deaths_averted_yearly[:i]) for i in range(len(deaths_averted_yearly))]\n",
    "plt.plot(years, total_deaths_averted)"
   ]
  },
  {
   "attachments": {},
   "cell_type": "markdown",
   "metadata": {},
   "source": [
    "*this shouldn't be taken seriously. It's only one possible case and doesn't factor in the probability well.*"
   ]
  },
  {
   "cell_type": "code",
   "execution_count": 24,
   "metadata": {},
   "outputs": [],
   "source": [
    "\n",
    "total_deaths_averted_2025_to_2060 = sq.sample(sum([death * death_averted_probability for death in deaths]), n = 10_000)"
   ]
  },
  {
   "cell_type": "code",
   "execution_count": 23,
   "metadata": {},
   "outputs": [
    {
     "name": "stdout",
     "output_type": "stream",
     "text": [
      "Total deaths averted from water-borne diseases from 2025 up to 2060: \n",
      "\tavg - 165723 (5% - 70852, 50% - 155613, 95% - 294696)\n"
     ]
    }
   ],
   "source": [
    "# print mean, 5th percentile, median, and 95th percentile:\n",
    "print(f\"Total deaths averted from water-borne diseases from 2025 up to 2060: \\n\\tavg - {np.mean(total_deaths_averted_2025_to_2060):.0f} (5% - {np.percentile(total_deaths_averted_2025_to_2060, 5):.0f}, 50% - {np.median(total_deaths_averted_2025_to_2060):.0f}, 95% - {np.percentile(total_deaths_averted_2025_to_2060, 95):.0f})\")"
   ]
  },
  {
   "attachments": {},
   "cell_type": "markdown",
   "metadata": {},
   "source": [
    "The true uncertainty is much larger than that, but we'll take the mean as our current best estimate. Also, the case where there's 100% coverage is very unlikely, so instead we'll assume something like 50% (which is still HUGE), and so we'll divide the current outcome we got by 2.\n",
    "\n",
    "**Potential Gross Impact** = 80k lives saved (estimated lower bound)"
   ]
  },
  {
   "attachments": {},
   "cell_type": "markdown",
   "metadata": {},
   "source": [
    "# Expected Gross Impact\n"
   ]
  },
  {
   "attachments": {},
   "cell_type": "markdown",
   "metadata": {},
   "source": [
    "We've already factored in some uncertainty by adding a 0.1% discount rate for uncertain events and the 1/25 protected assumption takes into account that the accuracy isn't perfect. The main risks we consider are:\n",
    "1. Techological risk - the technology doesn't work as well as expected.\n",
    "2. Market risk - the market doesn't adopt the technology as much as expected.\n",
    "3. Operational risk - the company fails to deliver the technology as well as expected.\n",
    "4. Financial risk - the company fails to raise the necessary funds to deliver the technology as well as expected."
   ]
  },
  {
   "attachments": {},
   "cell_type": "markdown",
   "metadata": {},
   "source": [
    "I'm really uncertain about these. "
   ]
  }
 ],
 "metadata": {
  "kernelspec": {
   "display_name": "Python 3",
   "language": "python",
   "name": "python3"
  },
  "language_info": {
   "codemirror_mode": {
    "name": "ipython",
    "version": 3
   },
   "file_extension": ".py",
   "mimetype": "text/x-python",
   "name": "python",
   "nbconvert_exporter": "python",
   "pygments_lexer": "ipython3",
   "version": "3.10.11"
  },
  "orig_nbformat": 4
 },
 "nbformat": 4,
 "nbformat_minor": 2
}
