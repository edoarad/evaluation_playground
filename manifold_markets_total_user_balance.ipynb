{
 "cells": [
  {
   "cell_type": "code",
   "execution_count": 1,
   "metadata": {},
   "outputs": [
    {
     "data": {
      "text/plain": [
       "'\\nThe following is from Manifold Markets API:\\n\\n# GET /v0/users\\nLists all users, ordered by creation date descending.\\n\\nParameters:\\n\\nlimit: Optional. How many users to return. The maximum is 1000 and the default is 500.\\nbefore: Optional. The ID of the user before which the list will start. For example, if you ask for the most recent 10 users, and then perform a second query for 10 more users with before=[the id of the 10th user], you will get users 11 through 20.\\nRequires no authorization.\\n\\nExample request\\n\\nhttps://manifold.markets/api/v0/users?limit=1\\nExample response\\n\\n[\\n  {\\n    \"id\": \"igi2zGXsfxYPgB0DJTXVJVmwCOr2\",\\n    \"createdTime\": 1639011767273,\\n    \"name\": \"Austin\",\\n    \"username\": \"Austin\",\\n    \"url\": \"https://manifold.markets/Austin\",\\n    \"avatarUrl\": \"https://lh3.googleusercontent.com/a-/AOh14GiZyl1lBehuBMGyJYJhZd-N-mstaUtgE4xdI22lLw=s96-c\",\\n    \"bio\": \"I build Manifold! Always happy to chat; reach out on Discord or find a time on https://calendly.com/austinchen/manifold!\",\\n    \"bannerUrl\": \"https://images.unsplash.com/photo-1501523460185-2aa5d2a0f981?ixlib=rb-1.2.1&ixid=MnwxMjA3fDB8MHxwaG90by1wYWdlfHx8fGVufDB8fHx8&auto=format&fit=crop&w=1531&q=80\",\\n    \"website\": \"https://blog.austn.io\",\\n    \"twitterHandle\": \"akrolsmir\",\\n    \"discordHandle\": \"akrolsmir#4125\",\\n    \"balance\": 9122.607163564959,\\n    \"totalDeposits\": 10339.004780544328,\\n    \"totalPnLCached\": 9376.601262721899\\n  }\\n]\\nResponse type: Array of LiteUser\\n\\n// Basic information about a user\\ntype LiteUser = {\\n  id: string // user\\'s unique id\\n  createdTime: number\\n\\n  name: string // display name, may contain spaces\\n  username: string // username, used in urls\\n  url: string // link to user\\'s profile\\n  avatarUrl?: string\\n\\n  bio?: string\\n  bannerUrl?: string\\n  website?: string\\n  twitterHandle?: string\\n  discordHandle?: string\\n\\n  // Note: the following are here for convenience only and may be removed in the future.\\n  balance: number\\n  totalDeposits: number\\n  totalPnLCached: number\\n}\\n'"
      ]
     },
     "execution_count": 1,
     "metadata": {},
     "output_type": "execute_result"
    }
   ],
   "source": [
    "'''\n",
    "The following is from Manifold Markets API:\n",
    "\n",
    "# GET /v0/users\n",
    "Lists all users, ordered by creation date descending.\n",
    "\n",
    "Parameters:\n",
    "\n",
    "limit: Optional. How many users to return. The maximum is 1000 and the default is 500.\n",
    "before: Optional. The ID of the user before which the list will start. For example, if you ask for the most recent 10 users, and then perform a second query for 10 more users with before=[the id of the 10th user], you will get users 11 through 20.\n",
    "Requires no authorization.\n",
    "\n",
    "Example request\n",
    "\n",
    "https://manifold.markets/api/v0/users?limit=1\n",
    "Example response\n",
    "\n",
    "[\n",
    "  {\n",
    "    \"id\": \"igi2zGXsfxYPgB0DJTXVJVmwCOr2\",\n",
    "    \"createdTime\": 1639011767273,\n",
    "    \"name\": \"Austin\",\n",
    "    \"username\": \"Austin\",\n",
    "    \"url\": \"https://manifold.markets/Austin\",\n",
    "    \"avatarUrl\": \"https://lh3.googleusercontent.com/a-/AOh14GiZyl1lBehuBMGyJYJhZd-N-mstaUtgE4xdI22lLw=s96-c\",\n",
    "    \"bio\": \"I build Manifold! Always happy to chat; reach out on Discord or find a time on https://calendly.com/austinchen/manifold!\",\n",
    "    \"bannerUrl\": \"https://images.unsplash.com/photo-1501523460185-2aa5d2a0f981?ixlib=rb-1.2.1&ixid=MnwxMjA3fDB8MHxwaG90by1wYWdlfHx8fGVufDB8fHx8&auto=format&fit=crop&w=1531&q=80\",\n",
    "    \"website\": \"https://blog.austn.io\",\n",
    "    \"twitterHandle\": \"akrolsmir\",\n",
    "    \"discordHandle\": \"akrolsmir#4125\",\n",
    "    \"balance\": 9122.607163564959,\n",
    "    \"totalDeposits\": 10339.004780544328,\n",
    "    \"totalPnLCached\": 9376.601262721899\n",
    "  }\n",
    "]\n",
    "Response type: Array of LiteUser\n",
    "\n",
    "// Basic information about a user\n",
    "type LiteUser = {\n",
    "  id: string // user's unique id\n",
    "  createdTime: number\n",
    "\n",
    "  name: string // display name, may contain spaces\n",
    "  username: string // username, used in urls\n",
    "  url: string // link to user's profile\n",
    "  avatarUrl?: string\n",
    "\n",
    "  bio?: string\n",
    "  bannerUrl?: string\n",
    "  website?: string\n",
    "  twitterHandle?: string\n",
    "  discordHandle?: string\n",
    "\n",
    "  // Note: the following are here for convenience only and may be removed in the future.\n",
    "  balance: number\n",
    "  totalDeposits: number\n",
    "  totalPnLCached: number\n",
    "}\n",
    "'''"
   ]
  },
  {
   "cell_type": "code",
   "execution_count": 4,
   "metadata": {},
   "outputs": [
    {
     "name": "stdout",
     "output_type": "stream",
     "text": [
      "The sum of all Manifold Market's user balances is: 22603514.32268788\n"
     ]
    }
   ],
   "source": [
    "import requests\n",
    "\n",
    "# Initialize the before parameter\n",
    "before = None\n",
    "\n",
    "# Initialize the total balance\n",
    "total_balance = 0\n",
    "\n",
    "# Loop until all users are retrieved\n",
    "while True:\n",
    "    # Make the API request to retrieve user data with the before parameter\n",
    "    if before is None:\n",
    "        url = f'https://manifold.markets/api/v0/users?limit=1000'\n",
    "    else:\n",
    "        url = f'https://manifold.markets/api/v0/users?limit=1000&before={before}'\n",
    "    response = requests.get(url)\n",
    "\n",
    "    # Check if the request was successful\n",
    "    if response.status_code == 200:\n",
    "        # Get the user data from the response\n",
    "        users = response.json()\n",
    "\n",
    "        # Check if there are no more users\n",
    "        if len(users) == 0:\n",
    "            break\n",
    "\n",
    "        # Update the before parameter for the next iteration\n",
    "        before = users[-1]['id']\n",
    "\n",
    "        # Calculate the sum of the balances\n",
    "        total_balance += sum(user['balance'] for user in users)\n",
    "    else:\n",
    "        print(\"Error occurred while retrieving user data.\")\n",
    "        break\n",
    "\n",
    "# Print the total balance\n",
    "print(f\"The sum of all Manifold Market's user balances is: {total_balance}\")\n"
   ]
  },
  {
   "cell_type": "code",
   "execution_count": null,
   "metadata": {},
   "outputs": [],
   "source": []
  }
 ],
 "metadata": {
  "kernelspec": {
   "display_name": "Python 3",
   "language": "python",
   "name": "python3"
  },
  "language_info": {
   "codemirror_mode": {
    "name": "ipython",
    "version": 3
   },
   "file_extension": ".py",
   "mimetype": "text/x-python",
   "name": "python",
   "nbconvert_exporter": "python",
   "pygments_lexer": "ipython3",
   "version": "3.10.7"
  }
 },
 "nbformat": 4,
 "nbformat_minor": 2
}
